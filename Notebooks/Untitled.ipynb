{
 "cells": [
  {
   "cell_type": "code",
   "execution_count": 1,
   "id": "f1473103",
   "metadata": {
    "collapsed": true
   },
   "outputs": [
    {
     "name": "stdout",
     "output_type": "stream",
     "text": [
      "Collecting transformers\n",
      "  Downloading transformers-4.6.1-py3-none-any.whl (2.2 MB)\n",
      "Collecting sacremoses\n",
      "  Downloading sacremoses-0.0.45-py3-none-any.whl (895 kB)\n",
      "Requirement already satisfied: filelock in c:\\users\\aniru\\appdata\\local\\programs\\python\\python39\\lib\\site-packages (from transformers) (3.0.12)"
     ]
    },
    {
     "name": "stderr",
     "output_type": "stream",
     "text": [
      "WARNING: You are using pip version 21.1.1; however, version 21.1.2 is available.\n",
      "You should consider upgrading via the 'c:\\users\\aniru\\appdata\\local\\programs\\python\\python39\\python.exe -m pip install --upgrade pip' command.\n"
     ]
    },
    {
     "name": "stdout",
     "output_type": "stream",
     "text": [
      "\n",
      "Collecting huggingface-hub==0.0.8\n",
      "  Downloading huggingface_hub-0.0.8-py3-none-any.whl (34 kB)\n",
      "Requirement already satisfied: numpy>=1.17 in c:\\users\\aniru\\appdata\\local\\programs\\python\\python39\\lib\\site-packages (from transformers) (1.19.5)\n",
      "Collecting tqdm>=4.27\n",
      "  Downloading tqdm-4.61.0-py2.py3-none-any.whl (75 kB)\n",
      "Collecting tokenizers<0.11,>=0.10.1\n",
      "  Downloading tokenizers-0.10.3-cp39-cp39-win_amd64.whl (2.0 MB)\n",
      "Requirement already satisfied: requests in c:\\users\\aniru\\appdata\\local\\programs\\python\\python39\\lib\\site-packages (from transformers) (2.25.1)\n",
      "Requirement already satisfied: packaging in c:\\users\\aniru\\appdata\\local\\programs\\python\\python39\\lib\\site-packages (from transformers) (20.9)\n",
      "Collecting regex!=2019.12.17\n",
      "  Downloading regex-2021.4.4-cp39-cp39-win_amd64.whl (270 kB)\n",
      "Requirement already satisfied: pyparsing>=2.0.2 in c:\\users\\aniru\\appdata\\local\\programs\\python\\python39\\lib\\site-packages (from packaging->transformers) (2.4.7)\n",
      "Requirement already satisfied: idna<3,>=2.5 in c:\\users\\aniru\\appdata\\local\\programs\\python\\python39\\lib\\site-packages (from requests->transformers) (2.10)\n",
      "Requirement already satisfied: chardet<5,>=3.0.2 in c:\\users\\aniru\\appdata\\local\\programs\\python\\python39\\lib\\site-packages (from requests->transformers) (4.0.0)\n",
      "Requirement already satisfied: urllib3<1.27,>=1.21.1 in c:\\users\\aniru\\appdata\\local\\programs\\python\\python39\\lib\\site-packages (from requests->transformers) (1.26.4)\n",
      "Requirement already satisfied: certifi>=2017.4.17 in c:\\users\\aniru\\appdata\\local\\programs\\python\\python39\\lib\\site-packages (from requests->transformers) (2020.12.5)\n",
      "Requirement already satisfied: joblib in c:\\users\\aniru\\appdata\\local\\programs\\python\\python39\\lib\\site-packages (from sacremoses->transformers) (1.0.1)\n",
      "Requirement already satisfied: six in c:\\users\\aniru\\appdata\\local\\programs\\python\\python39\\lib\\site-packages (from sacremoses->transformers) (1.15.0)\n",
      "Requirement already satisfied: click in c:\\users\\aniru\\appdata\\local\\programs\\python\\python39\\lib\\site-packages (from sacremoses->transformers) (7.1.2)\n",
      "Installing collected packages: tqdm, regex, tokenizers, sacremoses, huggingface-hub, transformers\n",
      "Successfully installed huggingface-hub-0.0.8 regex-2021.4.4 sacremoses-0.0.45 tokenizers-0.10.3 tqdm-4.61.0 transformers-4.6.1\n"
     ]
    }
   ],
   "source": [
    "!pip install transformers"
   ]
  },
  {
   "cell_type": "code",
   "execution_count": 4,
   "id": "b3e8e691",
   "metadata": {
    "collapsed": true
   },
   "outputs": [
    {
     "name": "stdout",
     "output_type": "stream",
     "text": [
      "Collecting sentencepiece\n",
      "  Downloading sentencepiece-0.1.95-cp39-cp39-win_amd64.whl (1.2 MB)\n",
      "Installing collected packages: sentencepiece\n",
      "Successfully installed sentencepiece-0.1.95\n"
     ]
    },
    {
     "name": "stderr",
     "output_type": "stream",
     "text": [
      "WARNING: You are using pip version 21.1.1; however, version 21.1.2 is available.\n",
      "You should consider upgrading via the 'c:\\users\\aniru\\appdata\\local\\programs\\python\\python39\\python.exe -m pip install --upgrade pip' command.\n"
     ]
    }
   ],
   "source": [
    "!pip install sentencepiece"
   ]
  },
  {
   "cell_type": "code",
   "execution_count": 20,
   "id": "f09d7684",
   "metadata": {},
   "outputs": [],
   "source": []
  },
  {
   "cell_type": "markdown",
   "id": "7d262473",
   "metadata": {},
   "source": [
    "# Setup summarisation model"
   ]
  },
  {
   "cell_type": "code",
   "execution_count": 19,
   "id": "3552ade6",
   "metadata": {},
   "outputs": [],
   "source": [
    "# model_name = \"human-centered-summarization/financial-summarization-pegasus\"\n",
    "# tokenizer = PegasusTokenizer.from_pretrained(model_name)\n",
    "# model = PegasusForConditionalGeneration.from_pretrained(model_name)"
   ]
  },
  {
   "cell_type": "code",
   "execution_count": 6,
   "id": "aaf4089a",
   "metadata": {},
   "outputs": [],
   "source": [
    "monitored_tickers = ['BTC']"
   ]
  },
  {
   "cell_type": "code",
   "execution_count": 7,
   "id": "be2f4db3",
   "metadata": {},
   "outputs": [],
   "source": [
    "def search_for_stock_news_urls(ticker):\n",
    "    search_url = \"https://www.google.com/search?q=yahoo+finance+{}&tbm=nws\".format(ticker)\n",
    "    r = requests.get(search_url)\n",
    "    soup = BeautifulSoup(r.text, 'html.parser')\n",
    "    atags = soup.find_all('a')\n",
    "    hrefs = [link['href'] for link in atags]\n",
    "    return hrefs"
   ]
  },
  {
   "cell_type": "code",
   "execution_count": 8,
   "id": "425f7e57",
   "metadata": {
    "scrolled": true
   },
   "outputs": [
    {
     "data": {
      "text/plain": [
       "{'BTC': ['/?sa=X&ved=0ahUKEwiWqKv4v-nwAhUjHbkGHSpzD8wQOwgC',\n",
       "  '/?output=search&ie=UTF-8&tbm=nws&sa=X&ved=0ahUKEwiWqKv4v-nwAhUjHbkGHSpzD8wQPAgE',\n",
       "  '/search?q=yahoo+finance+BTC&tbm=nws&ie=UTF-8&gbv=1&sei=xF-vYJa2GaO65OUPqua94Aw',\n",
       "  '/search?q=yahoo+finance+BTC&ie=UTF-8&source=lnms&sa=X&ved=0ahUKEwiWqKv4v-nwAhUjHbkGHSpzD8wQ_AUIBygA',\n",
       "  '/search?q=yahoo+finance+BTC&ie=UTF-8&tbm=shop&source=lnms&sa=X&ved=0ahUKEwiWqKv4v-nwAhUjHbkGHSpzD8wQ_AUICSgC',\n",
       "  '/search?q=yahoo+finance+BTC&ie=UTF-8&tbm=vid&source=lnms&sa=X&ved=0ahUKEwiWqKv4v-nwAhUjHbkGHSpzD8wQ_AUICigD',\n",
       "  '/search?q=yahoo+finance+BTC&ie=UTF-8&tbm=isch&source=lnms&sa=X&ved=0ahUKEwiWqKv4v-nwAhUjHbkGHSpzD8wQ_AUICygE',\n",
       "  'https://maps.google.com/maps?q=yahoo+finance+BTC&um=1&ie=UTF-8&sa=X&ved=0ahUKEwiWqKv4v-nwAhUjHbkGHSpzD8wQ_AUIDCgF',\n",
       "  '/search?q=yahoo+finance+BTC&ie=UTF-8&tbm=bks&source=lnms&sa=X&ved=0ahUKEwiWqKv4v-nwAhUjHbkGHSpzD8wQ_AUIDSgG',\n",
       "  '/advanced_search',\n",
       "  '/search?q=yahoo+finance+BTC&ie=UTF-8&tbm=nws&source=lnt&tbs=qdr:h&sa=X&ved=0ahUKEwiWqKv4v-nwAhUjHbkGHSpzD8wQpwUIDw',\n",
       "  '/search?q=yahoo+finance+BTC&ie=UTF-8&tbm=nws&source=lnt&tbs=qdr:d&sa=X&ved=0ahUKEwiWqKv4v-nwAhUjHbkGHSpzD8wQpwUIEA',\n",
       "  '/search?q=yahoo+finance+BTC&ie=UTF-8&tbm=nws&source=lnt&tbs=qdr:w&sa=X&ved=0ahUKEwiWqKv4v-nwAhUjHbkGHSpzD8wQpwUIEQ',\n",
       "  '/search?q=yahoo+finance+BTC&ie=UTF-8&tbm=nws&source=lnt&tbs=qdr:m&sa=X&ved=0ahUKEwiWqKv4v-nwAhUjHbkGHSpzD8wQpwUIEg',\n",
       "  '/search?q=yahoo+finance+BTC&ie=UTF-8&tbm=nws&source=lnt&tbs=qdr:y&sa=X&ved=0ahUKEwiWqKv4v-nwAhUjHbkGHSpzD8wQpwUIEw',\n",
       "  '/search?q=yahoo+finance+BTC&ie=UTF-8&tbm=nws&source=lnt&tbs=ar:1&sa=X&ved=0ahUKEwiWqKv4v-nwAhUjHbkGHSpzD8wQpwUIFA',\n",
       "  '/search?q=yahoo+finance+BTC&ie=UTF-8&tbm=nws&source=lnt&tbs=sbd:1&sa=X&ved=0ahUKEwiWqKv4v-nwAhUjHbkGHSpzD8wQpwUIFg',\n",
       "  '/url?q=https://finance.yahoo.com/news/bitcoin-is-officially-a-new-asset-class-goldman-sachs-103540636.html&sa=U&ved=2ahUKEwiWqKv4v-nwAhUjHbkGHSpzD8wQxfQBMAB6BAgFEAE&usg=AOvVaw2scBK3JGlc4hX94agV2f7r',\n",
       "  '/url?q=https://finance.yahoo.com/news/bitcoin-is-officially-a-new-asset-class-goldman-sachs-103540636.html&sa=U&ved=2ahUKEwiWqKv4v-nwAhUjHbkGHSpzD8wQ0Y8FMAB6BAgFEAI&usg=AOvVaw2rB7Q5hTaaN_mq83XfcdZh',\n",
       "  '/url?q=https://finance.yahoo.com/news/course-china-anti-bitcoin-look-230807400.html&sa=U&ved=2ahUKEwiWqKv4v-nwAhUjHbkGHSpzD8wQxfQBMAF6BAgJEAE&usg=AOvVaw0S95tWEzmVcKb9cYAf9wxw',\n",
       "  '/url?q=https://finance.yahoo.com/news/course-china-anti-bitcoin-look-230807400.html&sa=U&ved=2ahUKEwiWqKv4v-nwAhUjHbkGHSpzD8wQ0Y8FMAF6BAgJEAI&usg=AOvVaw3ZR8rcihLqbJdBNIgJcv3Q',\n",
       "  '/url?q=https://finance.yahoo.com/news/forget-bitcoin-ethereum-10-best-161610562.html&sa=U&ved=2ahUKEwiWqKv4v-nwAhUjHbkGHSpzD8wQxfQBMAJ6BAgIEAE&usg=AOvVaw04MTyq8R9IN03Y-GxMZsTt',\n",
       "  '/url?q=https://finance.yahoo.com/news/forget-bitcoin-ethereum-10-best-161610562.html&sa=U&ved=2ahUKEwiWqKv4v-nwAhUjHbkGHSpzD8wQ0Y8FMAJ6BAgIEAI&usg=AOvVaw2LSOAyH0jCaXhTHDiXAtzV',\n",
       "  '/url?q=https://finance.yahoo.com/video/bitcoin-cryptocurrencies-rebound-volatile-week-135012937.html&sa=U&ved=2ahUKEwiWqKv4v-nwAhUjHbkGHSpzD8wQxfQBMAN6BAgHEAE&usg=AOvVaw2BCEEa3PJn8iA1Hpdgf4s2',\n",
       "  '/url?q=https://finance.yahoo.com/video/bitcoin-cryptocurrencies-rebound-volatile-week-135012937.html&sa=U&ved=2ahUKEwiWqKv4v-nwAhUjHbkGHSpzD8wQ0Y8FMAN6BAgHEAI&usg=AOvVaw18rCdN68ii_xQTDAdT1D89',\n",
       "  '/url?q=https://finance.yahoo.com/news/why-china-crackdown-may-bitcoin-015850545.html&sa=U&ved=2ahUKEwiWqKv4v-nwAhUjHbkGHSpzD8wQxfQBMAR6BAgBEAE&usg=AOvVaw0a84XAdS1_A10b2KFeppL-',\n",
       "  '/url?q=https://finance.yahoo.com/news/why-china-crackdown-may-bitcoin-015850545.html&sa=U&ved=2ahUKEwiWqKv4v-nwAhUjHbkGHSpzD8wQ0Y8FMAR6BAgBEAI&usg=AOvVaw1UUAoo6VQrPr2Eo_sFmwKh',\n",
       "  '/url?q=https://finance.yahoo.com/video/bitcoin-wild-price-action-continues-132126621.html&sa=U&ved=2ahUKEwiWqKv4v-nwAhUjHbkGHSpzD8wQxfQBMAV6BAgEEAE&usg=AOvVaw2l4SbuQWNUFZNaDHtZQKgc',\n",
       "  '/url?q=https://finance.yahoo.com/video/bitcoin-wild-price-action-continues-132126621.html&sa=U&ved=2ahUKEwiWqKv4v-nwAhUjHbkGHSpzD8wQ0Y8FMAV6BAgEEAI&usg=AOvVaw0VVoCdghGacGGPuGwknDCS',\n",
       "  '/url?q=https://finance.yahoo.com/news/fidelity-bitcoin-fund-attracts-102m-200345900.html&sa=U&ved=2ahUKEwiWqKv4v-nwAhUjHbkGHSpzD8wQxfQBMAZ6BAgCEAE&usg=AOvVaw0XZ5rQFCD8J5V_m6FbV8pY',\n",
       "  '/url?q=https://finance.yahoo.com/news/fidelity-bitcoin-fund-attracts-102m-200345900.html&sa=U&ved=2ahUKEwiWqKv4v-nwAhUjHbkGHSpzD8wQ0Y8FMAZ6BAgCEAI&usg=AOvVaw1z52oAOFnLvNXMNqE9-FJo',\n",
       "  '/url?q=https://finance.yahoo.com/video/rising-inflation-could-mean-bitcoin-211557985.html&sa=U&ved=2ahUKEwiWqKv4v-nwAhUjHbkGHSpzD8wQxfQBMAd6BAgAEAE&usg=AOvVaw3oJm-bl9IeeF240FbqEj31',\n",
       "  '/url?q=https://finance.yahoo.com/video/rising-inflation-could-mean-bitcoin-211557985.html&sa=U&ved=2ahUKEwiWqKv4v-nwAhUjHbkGHSpzD8wQ0Y8FMAd6BAgAEAI&usg=AOvVaw3pzbLJq5Qeq63uTjGCC_YP',\n",
       "  '/url?q=https://finance.yahoo.com/video/bitcoin-could-touch-300-000-191436168.html&sa=U&ved=2ahUKEwiWqKv4v-nwAhUjHbkGHSpzD8wQxfQBMAh6BAgDEAE&usg=AOvVaw1nOFEajXj9QD96JbiByoat',\n",
       "  '/url?q=https://finance.yahoo.com/video/bitcoin-could-touch-300-000-191436168.html&sa=U&ved=2ahUKEwiWqKv4v-nwAhUjHbkGHSpzD8wQ0Y8FMAh6BAgDEAI&usg=AOvVaw0Fg_1PL0LfsDxJ5QskLBO5',\n",
       "  '/url?q=https://finance.yahoo.com/news/bitcoin-rises-above-40k-mining-083312103.html&sa=U&ved=2ahUKEwiWqKv4v-nwAhUjHbkGHSpzD8wQxfQBMAl6BAgGEAE&usg=AOvVaw0QRmTNNtwSQl8MFRVWY_Yw',\n",
       "  '/url?q=https://finance.yahoo.com/news/bitcoin-rises-above-40k-mining-083312103.html&sa=U&ved=2ahUKEwiWqKv4v-nwAhUjHbkGHSpzD8wQ0Y8FMAl6BAgGEAI&usg=AOvVaw0hHHWhT7T1r78DRA11UEtl',\n",
       "  '/search?q=yahoo+finance+BTC&ie=UTF-8&tbm=nws&ei=xF-vYJa2GaO65OUPqua94Aw&start=10&sa=N',\n",
       "  '/url?q=https://support.google.com/websearch%3Fp%3Dws_settings_location%26hl%3Den-IN&sa=U&ved=0ahUKEwiWqKv4v-nwAhUjHbkGHSpzD8wQty4IVQ&usg=AOvVaw2hK2wySuIP6gJJlDOlsaIz',\n",
       "  '/url?q=https://accounts.google.com/ServiceLogin%3Fcontinue%3Dhttps://www.google.com/search%253Fq%253Dyahoo%252Bfinance%252BBTC%2526tbm%253Dnws%26hl%3Den&sa=U&ved=0ahUKEwiWqKv4v-nwAhUjHbkGHSpzD8wQxs8CCFY&usg=AOvVaw3wnaJB_xisrfDsImLC-Lac',\n",
       "  'https://www.google.com/preferences?hl=en-IN&fg=1&sa=X&ved=0ahUKEwiWqKv4v-nwAhUjHbkGHSpzD8wQ5fUCCFc',\n",
       "  'https://policies.google.com/privacy?hl=en-IN&fg=1',\n",
       "  'https://policies.google.com/terms?hl=en-IN&fg=1']}"
      ]
     },
     "execution_count": 8,
     "metadata": {},
     "output_type": "execute_result"
    }
   ],
   "source": [
    "raw_urls = {ticker:search_for_stock_news_urls(ticker) for ticker in monitored_tickers}\n",
    "raw_urls"
   ]
  },
  {
   "cell_type": "code",
   "execution_count": 10,
   "id": "b207b0c4",
   "metadata": {},
   "outputs": [],
   "source": [
    "exclude_list = ['maps', 'policies', 'preferences', 'accounts', 'support']"
   ]
  },
  {
   "cell_type": "code",
   "execution_count": 11,
   "id": "a4a228c5",
   "metadata": {},
   "outputs": [],
   "source": [
    "def strip_unwanted_urls(urls, exclude_list):\n",
    "    val = []\n",
    "    for url in urls: \n",
    "        if 'https://' in url and not any(exclude_word in url for exclude_word in exclude_list):\n",
    "            res = re.findall(r'(https?://\\S+)', url)[0].split('&')[0]\n",
    "            val.append(res)\n",
    "    return list(set(val))"
   ]
  },
  {
   "cell_type": "code",
   "execution_count": 12,
   "id": "e194ba5e",
   "metadata": {},
   "outputs": [
    {
     "data": {
      "text/plain": [
       "{'BTC': ['https://finance.yahoo.com/news/why-china-crackdown-may-bitcoin-015850545.html',\n",
       "  'https://finance.yahoo.com/news/forget-bitcoin-ethereum-10-best-161610562.html',\n",
       "  'https://finance.yahoo.com/video/bitcoin-could-touch-300-000-191436168.html',\n",
       "  'https://finance.yahoo.com/video/bitcoin-wild-price-action-continues-132126621.html',\n",
       "  'https://finance.yahoo.com/video/rising-inflation-could-mean-bitcoin-211557985.html',\n",
       "  'https://finance.yahoo.com/news/course-china-anti-bitcoin-look-230807400.html',\n",
       "  'https://finance.yahoo.com/news/bitcoin-rises-above-40k-mining-083312103.html',\n",
       "  'https://finance.yahoo.com/news/bitcoin-is-officially-a-new-asset-class-goldman-sachs-103540636.html',\n",
       "  'https://finance.yahoo.com/news/fidelity-bitcoin-fund-attracts-102m-200345900.html',\n",
       "  'https://finance.yahoo.com/video/bitcoin-cryptocurrencies-rebound-volatile-week-135012937.html']}"
      ]
     },
     "execution_count": 12,
     "metadata": {},
     "output_type": "execute_result"
    }
   ],
   "source": [
    "cleaned_urls = {ticker:strip_unwanted_urls(raw_urls[ticker], exclude_list) for ticker in monitored_tickers}\n",
    "cleaned_urls"
   ]
  },
  {
   "cell_type": "code",
   "execution_count": 13,
   "id": "0929ad75",
   "metadata": {},
   "outputs": [],
   "source": [
    "def scrape_and_process(URLs):\n",
    "    ARTICLES = []\n",
    "    for url in URLs: \n",
    "        r = requests.get(url)\n",
    "        soup = BeautifulSoup(r.text, 'html.parser')\n",
    "        paragraphs = soup.find_all('p')\n",
    "        text = [paragraph.text for paragraph in paragraphs]\n",
    "        words = ' '.join(text).split(' ')[:350]\n",
    "        ARTICLE = ' '.join(words)\n",
    "        ARTICLES.append(ARTICLE)\n",
    "    return ARTICLES"
   ]
  },
  {
   "cell_type": "code",
   "execution_count": 14,
   "id": "2ebbbc06",
   "metadata": {
    "scrolled": true
   },
   "outputs": [
    {
     "data": {
      "text/plain": [
       "{'BTC': ['China’s nationwide crackdown on crypto mining could create a competitive environment\\xa0 in which only the biggest miners can survive, said a co-founder and managing partner of Waterdrip Capital, a major investor in the Chinese crypto mining industry. “Finding suitable sites outside the mining hubs requires a lot of resources such as capital and network,” Yusan Zheng said during a Chinese-language Clubhouse discussion hosted by CoinDesk. “Only the most experienced and deep-pocketed miners will be able to carry out such a plan.”\\xa0 Local authorities in major Chinese mining hubs have started banishing crypto mining businesses since last Friday’s crackdown notice from the State Council. With little idle capacity in overseas hosting sites, some miners plan to go underground and continue to operate in other parts of the country, which might be only feasible for some of the biggest miners. Related: DeFi &#8216;Raises Challenges&#8217; for Investors, Regulators, SEC&#8217;s Gensler Says If mining power is too centralized, a few miners could manipulate the market by controlling the supply of bitcoin, or rewrite transactions on the immutable distributed ledger in the bitcoin network and shut out smaller miners with over 50% of the network’s mining power.\\xa0 Xinjiang, Sichuan and Inner Mongolia have been popular regions for Chinese miners due to their cheap electricity. While the miners run their mining machines with hydropower in Sichuan during the rainy season in the summer, they migrate to the other two regions that chiefly have coal in the winter.\\xa0 It is likely that miners will move from these mining hubs in western China to the east, where they can put the mining machines into factories, said Zheng, who was an early investor in bitcoin mining in China. The miners could also send a few mining machines to each household in the countryside, he said.\\xa0 While the crackdown will be focused on mining hubs, it might be harder to implement if mining sites are in multiple discreet locations across the country, according to Zheng.\\xa0 Related: Market Wrap: Bitcoin, Ether Climb on &#8216;Green&#8217; Mining Plans Before Losing Steam The electricity cost will certainly rise, but the factories and individual households',\n",
       "  'In this article, we will take a look at the 10 best cryptocurrencies Redditors are buying. You can skip our detailed analysis of these cryptocurrencies, and go directly to 5 Best Cryptocurrencies Redditors are Buying. The free fall in the prices of cryptocurrencies over the past week has exacerbated investor concerns around volatile technology stocks. However, market experts like Cathie Wood, who reportedly holds the largest institutional investment in cryptocurrencies through her firm, Ark Investment Management, have dismissed the recent fall in value of digital assets as a temporary setback, backing currencies like Bitcoin to touch record highs of $500,000 in the coming years.  Other big names in the finance world have also backed her point of view. Angel investor Balaji Srinivasan, who has been a longtime advocate of the wider adoption of cryptocurrencies and has an uncanny knack of predicting future market direction, recently underlined his bullish view on digital assets in a media interview, mentioning` certain environmental-related and regulatory concerns around coin mining two months before Tesla, Inc. (NASDAQ: TSLA) chief Elon Musk raised them publicly to the detriment of popular cryptocurrencies like Ethereum. Tesla, Inc. (NASDAQ: TSLA) also suspended Bitcoin payments for vehicle sales after the Musk tweet regarding the coin mining methods, sending stocks of firms that deal in crypto, like PayPal Holdings, Inc. (NASDAQ: PYPL) and Square, Inc. (NYSE: SQ), tumbling to new lows after a record rally witnessed over the past twelve months. PayPal Holdings, Inc. (NASDAQ: PYPL) and Square, Inc. (NYSE: SQ) are two of the largest digital payments companies in the world and have helped bring cryptocurrencies into the mainstream.  Amid the buzz around crypto stocks in general, American investment bank The Goldman Sachs Group, Inc. (NYSE: GS) has released a report underlining why it expects certain cryptocurrencies like Ethereum to perform better than peers like Bitcoin in the long run. The Goldman Sachs Group, Inc. (NYSE: GS) is offering investors exposure to crypto investments and has opened a cryptocurrency trading desk recently as well. The Goldman Sachs Group, Inc. (NYSE: GS) is one of the most well established finance',\n",
       "  \"May.25 -- Bobby Lee, BTC China co-founder and CEO, says it's a bull year for Bitcoin and the cryptocurrency could touch $300,000. He speaks to Bloomberg's Matt Miller. The 911 really put Porsche on the map and the most legendary variant of the model was the 930 Turbo. Big tech has been downright disappointing this year for investors used to big gains from their stocks. They might also be worth buying right now Hart Nissan of Springfield, Virginia, is offering buyers of a 2020 or 2021 Titan pickup a two-year, 10,000-mile-per-year lease on Nissan’s EV for only 99 cents. Four years ago, Tom Herman was hired to be Texas' coach. The transition recruiting class was not great. Here is where the '17 class is now. Also in Cowboys news, Jabril Cox contract details and defensive preview, Randy White remembers, and is Ezekiel Elliott the most overpaid? BeInCrypto presents our daily morning roundup of crypto news and market changes that you might have missed while you were asleep. Its subsidiaries include internet search engine Google and streaming platform YouTube.  Alphabet's foundational segment continues to be its search engine Google.  According to data from GlobalStats, Google has pretty consistently maintained a worldwide search share of between 91% and 93% for the past couple of years. “We continue to closely and actively follow developments around cryptocurrencies,” said Wells Fargo CEO Charles Scharf in a statement. Morgan Stanley is closing its Indonesian onshore institutional equities trading business, the investment bank said on Thursday in response to queries from Reuters.  Sources familiar with the decision said the move will affect about 10 roles and the investment bank will carry out sales, trading and research functions from its Southeast Asian hub of Singapore.  The onshore Indonesian equities business was opened in 2012 following an announcement by Morgan Stanley's CEO James Gorman in November 2011 while he was visiting Jakarta. (Bloomberg) -- In the latest desperate attempt to deal with fuel shortages that have crippled Venezuela’s economy, government leaders are trying to repurpose two massive oil upgraders to make a main ingredient for\",\n",
       "  \"On Monday, Elon Musk sent out a tweet stating he spoke with Bitcoin miners, giving investors confidence to invest in the cryptocurrency again which caused a surge in price. Myles Udland, Brian Sozzi, and Julie Hyman break down what this move may mean for the volatile cryptocurrency market. JULIE HYMAN: Once again, maybe Elon Musk driving some stuff here. It looks like he tweeted once again. This time, he's talking once again about his new sort of favorite theme about the climate and environmental implications of cryptocurrencies. He said, he has been speaking to North American Bitcoin miners. They committed to publish current and plan renewable usage, and ask miners worldwide to do so, potentially promising. So, there is this theme developing, and there were already groups, right, that were sort of addressing this issue. At the moment though, Myles, as I mentioned, not seeing a lot of action in cryptocurrencies. We're going to talk much later-- much more later about this with the author of that note that I referenced, but you know, there is at least momentarily a little bit of a pause in the hottest of the action. MYLES UDLAND: Yeah, and of course, then Michael Saylor of MicroStrategy, they've had a lot of crypto to their balance sheet. Adding to Musk's tweet saying that the meeting did, in fact, happen. And basically, miners in North America are going to coordinate. I guess you could think of it, to go back to, like, old school commodities, like an OPEC-type group where they can work together to change the mining process, such that it is greener. But I think, look, the point of the crypto cycle right now, and all crypto cycles are driven by price, is in, I mean, I don't know if it's a precarious position. I mean, personally, to me, it doesn't matter that much if the price of cryptocurrency goes up or down. But we have seen the rally itself and the price action within a number of major cryptocurrencies just look a lot less healthy over the last couple of weeks. Yesterday, we\",\n",
       "  \"CoinDesk Anchor Christine Lee discusses inflation, bitcoin, stablecoin adoption, and other highlights from CoinDesk’s Consensus 2021 conference. ADAM SHAPIRO: Bitcoin right now is up roughly 14%, about $4,000, almost $4,700, after-- over the weekend it hit $31,000. The reason I said, talk about timing, is CoinDesk's annual Bitcoin Cryptocurrency Conference Consensus 2021 is under way right now. And joining us to talk about some of the themes that are taking place in crypto right now, we invite into the stream Christine Lee, CoinDesk anchor. And we're going to talk about some of the headliners who've already addressed the conference because Ray Dalio was there, spoke for about an hour, talked about the fact that he owns Bitcoin. Here's a little bit about what he said about where the United States is headed regarding, perhaps, monetary policy. RAY DALIO: We know we're going to need a lot more money, a lot more debt, and this is all the cycle. You need more money, you have to print that. You need more money, so taxes go up, and that produces the dynamic. Now I can keep going on about what happens in that dynamic. It may be capital controls. You start to go to things where that money wants to go someplace, and it goes to almost anything else. Particularly at all that time, I learned in 71-- painfully learned at 71-- that it causes stocks to go up, it causes everything. We can deal with the mechanics of the stocks-- gold, Bitcoin, real estate, everything to go up because it's really going down in dollars. And that's the part of the cycle we're in. ADAM SHAPIRO: Christine, got to listen to someone like Ray Dalio, right? CHRISTINE LEE: Love hearing from Ray Dalio. He is one of our keynote speakers here at Consensus by CoinDesk, weeklong conference. Very busy, but he was in that clip talking about cycles. And he did a deep dive of the US dollar, the British pound, and the Dutch Gilder before that. And he saw a pattern of currency supremacy cycles, the first one being financial\",\n",
       "  'Every bitcoin crash has many parents. In the current bloodletting (total cryptocurrency market cap is down 40% in less than two weeks), China’s recent threat of a crackdown on cryptocurrency certainly seems to be one. But feeding a crypto crash was strictly a side effect of a much broader story: a quest for total control over the financial lives of Chinese subjects. Over the past year to two years, China’s rulers have engaged in a series of moves clearly designed to clamp down, not on cryptocurrency specifically, but on open financial systems more generally. That included a brutal rebuff of Jack Ma, one of the world’s richest men, as well as the development of the digital yuan, which reportedly has strong built-in surveillance and censorship features. David Z. Morris is CoinDesk’s Chief Insights Columnist. Related: Consensus 2021: 8 Questions for Ethereum&#8217;s Andrew Keys In the past, China’s crypto hesitancy has often seemed at least partly about protecting its populace from scams and theft. But in the context of this broader maneuvering for financial control, the latest round of clampdowns could be seen as a turning point as the state shifts its focus from defending its people to defending its own power. To start with the current facts: On May 18, China reiterated existing restrictions on crypto for banks and payment providers. On Friday May 22, Chinese vice premier Liu He hosted a meeting of an important financial regulatory committee. In a subsequent statement, Liu and the committee called for a crackdown on “cryptocurrency mining and trading activities” in China. The statement on mining and trading was both novel and notable for Liu’s high rank. It has had an immediate effect: Mining businesses, including HashCow and BTC.Top, had begun to wind down mining operations by Monday, according to Reuters and Al Jazeera. Scattered rumors suggest that Chinese miners are relocating to nearby sites, including Kazakhstan, and that mining equipment is showing up at local auctions in large volume. (Bitcoin’s network hash rate, a measure of the number and power of machines mining bitcoin, has also dropped by roughly 15% in the',\n",
       "  \"Bitcoin’s recovery gathered steam on Wednesday with prices topping $40,000 to hit the highest level in nearly a week. The leading cryptocurrency by market value rose to $40,800 during the early European trading, a level last seen on May 21. Prices hit lows near $31,000 on May 23 and have been rising ever since. At press time, bitcoin was trading at $40,272, according to CoinDesk’s Bitcoin Price Index. The cryptocurrency is yet to pass through the widely tracked 200-day simple moving average hurdle at $40,639. Major alternative cryptocurrencies (altcoins) are also gaining ground and flashing relatively bigger returns. Names including MATIC, LINK and BNB have gained 10% to 14%, while ether, the second-largest cryptocurrency, is trading 6% higher. Altcoins suffered sharp losses last week as bitcoin crashed. Ether fell by over 40%, registering its biggest weekly decline on record. The latest uptick in bitcoin and other coins comes on the heels of the Bitcoin Mining Council’s plans to address concerns regarding the negative environmental impact of cryptocurrency mining. Also read: Michael Saylor: Mining Council Will ‘Defend’ Bitcoin Against ‘Uninformed’ and ‘Hostile’ Energy Critics Fairlead’s Stockton Plans to Add Bitcoin Exposure Only After Key Indicator Turns Higher Bitcoin Rises from Oversold Levels; Faces Resistance Near $40K-$45K DBS Says Bitcoin Affects Stock Markets, Is ‘No Longer Fringe Asset’ Market Wrap: Ether Trading Volume Up, Closing In on Bitcoin; Crypto Market Struggles Related Quotes When prices start to rise, seek real assets to hedge against a decline in stocks. REITs offer protection. Go for the gold, not the crypto. Deviate To Win is an interview series featuring executives and investors who have won in business by taking chances and doing things a little bit differently. The podcast is hosted by Jason Ader, founder and CEO of SpringOwl Asset Management, and is produced by Benzinga. On the first episode of Deviate To Win, SpringOwl Asset Management Founder and CEO Jason Ader spoke with Soo Kim, the chairman of Bally's Corp (NYSE: BALY) and founding partner of the hedge fund Standard General. Background On Bally’s And Standard General Standard General has initiated massive changes since\",\n",
       "  'It\\'s time to take bitcoin way more seriously as an investable asset, says Goldman Sachs.\\xa0 \"Bitcoin is now considered an investable asset. It has its own idiosyncratic risk, partly because it’s still relatively new and going through an adoption phase,\" said Mathew McDermott, Goldman Sachs\\' global head of digital assets, in a new piece of research. \"And it doesn’t behave as one would intuitively expect relative to other assets given the analogy to digital gold; to date, it’s tended to be more aligned with risk-on assets. But clients and beyond are largely treating it as a new asset class, which is notable—it’s not often that we get to witness the emergence of a new asset class.\" Despite Goldman\\'s rubber stamp of approval on bitcoin (BTC-USD) and other cryptocurrencies have traded anything like a typical stock of a credible company or bond in May. In truth, if bitcoin is to be considered a new asset class it has a lot in common with one area in the stock market: often very volatile penny stocks that see wild gyrations on the tiniest bit of news. Bitcoin prices continued to be under massive pressure on Sunday, plunging more than 15% by afternoon trading. At $32,652, bitcoin prices have crashed about 50% from their mid-April peak of $64,829. Ether nosedived another 18% on Sunday, bringing its drop from an all-time high this month to roughly 60%. Early Monday morning, crypto recovered slightly. The serious price correction in cryptos come amid a groundswell of negative news mostly from government officials worldwide.\\xa0\\xa0 Authorities in China said last Friday that it would be necessary to crack down on bitcoin mining and trading behavior to limit investment risks.\\xa0 Meanwhile, Federal Reserve Chairman Jerome Powell said in a presentation last week the governing body would continue its work on a digital dollar. Any digital dollar would likely weigh on the bullish sentiment for bitcoin and other cryptos. “The effective functioning of our economy requires that people have faith and confidence not only in the dollar, but also in the payment networks, banks, and other payment service providers that allow',\n",
       "  'Fidelity Investments’ first bitcoin fund has raised $102 million from wealthy investors since launching in August, according to Wednesday regulatory filings. Managed by Chief Strategist Peter Jubber, the Wise Origin Bitcoin Index Fund I, LP, is a passively-managed vehicle that Fidelity sells to qualified investors through its Fidelity Digital Funds subsidiary. Some 83 investors pooled their bets (at a minimum of $50,000 each) for a total raise of $102,350,437, the Securities and Exchange Commission (SEC) filings show. That’s enough to make Fidelity’s offering one of largest of its kind. Only Pantera, Galaxy and NYDIG, which recently began providing access to Morgan Stanley clients, have reported more than $100 million in sales for a bitcoin-only fund. Related: Billionaire Carl Icahn Eyes Potential $1.5B Crypto Investment Morgan Stanley’s standalone bitcoin fund, offered in partnership with NYDIG, managed $29.4 million in its first two weeks, as CoinDesk first reported in April. Such funds are only open to accredited investors. Fidelity has moved to launch a more broadly available bitcoin exchange-traded fund (ETF) – also under the “Wise Origin” brand. The SEC has yet to approve a bitcoin ETF, swatting down dozens of proposals in recent years. Fidelity did not immediately respond to CoinDesk’s request for comment. Consensus 2021: 7 Questions for Bitcoin Anarchist Eric Voskuil SEC Starts Official Review of SkyBridge, Fidelity Bitcoin ETF Applications Market Wrap: Bitcoin, Ether Climb on ‘Green’ Mining Plans Before Losing Steam Related Quotes Investment firm Morgan Stanley had set a 3,900 year-end target for the S&P 500 – and it’s already obsolete. The index stands at 4,196, a 7.5% above Morgan Stanley’s target. Year-to-date, despite some volatile trading, the S&P is up nearly 12%. Mike Wilson, chief investment officer and US equity strategist for Morgan Stanley has taken a deep dive into the current state of the market, and believes that values have peaked – at least for now. “We continue to believe valuations are too high and will adjust materially lower over the next six months... We’ve left the early cycle part of this recovery… the reopening of the economy is likely to put upward pressure',\n",
       "  \"Todd Jablonski, Chief Investment Officer at Principal Global Asset Allocation, joins Yahoo Finance Live to weigh in on the outlook for cryptocurrencies and break down the‘small victory for value stocks. - Let's bring in Todd Jablonski now-- he's the Chief Investment Officer at Principal Global Asset Allocation-- to talk a bit more about everything happening in the markets. And Todd, we were just chatting earlier about inflation and the conversation around transitory impacts, the magnitude of inflation increases, really outpacing where most people have expected them to go. How are you thinking about inflation at this point as we head into a period where we do expect to see a couple of jarring prints, especially after that April number we got a couple of weeks back? TODD JABLONSKI: Well, inflation has gone from being on no one's radar screen maybe five years ago as a lead concern to now being at the absolute forefront as you see the economy rebound off of COVID lows. And the tremendous acceleration in earnings, coupled with massive monetary and fiscal stimulus, is enough to really cause liftoff on a variable that's been stuck at below 2% growth for some time. We actually welcome, I think, a bit of inflation coming to the US economic picture. And it's this surge that leads to print perhaps even clipping 3 and 1/2%, 4% in the shorter-term, though we do expect that to subside. We think the real question is, yes, that will inform how cyclical exposures and other asset classes perform. But where do we settle post the surge? Is it more around that 2.75% or 3%? We're going to be watching the data to see just how permanent some of these inflation forces are and how they affect the capital market outlook. - Well, whatever the case down the road, inflation is here right now. Are you guys hedging inflation at all in your positioning, Todd? TODD JABLONSKI: Yeah, as we think about the impact of inflation on multi-asset portfolios here at Principle, we're pro-inflation. And we have tilted our portfolio towards a procyclical bias. We\"]}"
      ]
     },
     "execution_count": 14,
     "metadata": {},
     "output_type": "execute_result"
    }
   ],
   "source": [
    "articles = {ticker:scrape_and_process(cleaned_urls[ticker]) for ticker in monitored_tickers}\n",
    "articles"
   ]
  },
  {
   "cell_type": "code",
   "execution_count": 15,
   "id": "75a0b861",
   "metadata": {},
   "outputs": [],
   "source": [
    "def summarize(articles):\n",
    "    summaries = []\n",
    "    for article in articles:\n",
    "        input_ids = tokenizer.encode(article, return_tensors='pt')\n",
    "        output = model.generate(input_ids, max_length=55, num_beams=5, early_stopping=True)\n",
    "        summary = tokenizer.decode(output[0], skip_special_tokens=True)\n",
    "        summaries.append(summary)\n",
    "    return summaries"
   ]
  },
  {
   "cell_type": "code",
   "execution_count": 16,
   "id": "11c93ead",
   "metadata": {},
   "outputs": [
    {
     "ename": "AttributeError",
     "evalue": "'NoneType' object has no attribute 'encode'",
     "output_type": "error",
     "traceback": [
      "\u001b[1;31m---------------------------------------------------------------------------\u001b[0m",
      "\u001b[1;31mAttributeError\u001b[0m                            Traceback (most recent call last)",
      "\u001b[1;32m<ipython-input-16-b01821ea9504>\u001b[0m in \u001b[0;36m<module>\u001b[1;34m\u001b[0m\n\u001b[1;32m----> 1\u001b[1;33m \u001b[0msummaries\u001b[0m \u001b[1;33m=\u001b[0m \u001b[1;33m{\u001b[0m\u001b[0mticker\u001b[0m\u001b[1;33m:\u001b[0m\u001b[0msummarize\u001b[0m\u001b[1;33m(\u001b[0m\u001b[0marticles\u001b[0m\u001b[1;33m[\u001b[0m\u001b[0mticker\u001b[0m\u001b[1;33m]\u001b[0m\u001b[1;33m)\u001b[0m \u001b[1;32mfor\u001b[0m \u001b[0mticker\u001b[0m \u001b[1;32min\u001b[0m \u001b[0mmonitored_tickers\u001b[0m\u001b[1;33m}\u001b[0m\u001b[1;33m\u001b[0m\u001b[1;33m\u001b[0m\u001b[0m\n\u001b[0m\u001b[0;32m      2\u001b[0m \u001b[0msummaries\u001b[0m\u001b[1;33m\u001b[0m\u001b[1;33m\u001b[0m\u001b[0m\n",
      "\u001b[1;32m<ipython-input-16-b01821ea9504>\u001b[0m in \u001b[0;36m<dictcomp>\u001b[1;34m(.0)\u001b[0m\n\u001b[1;32m----> 1\u001b[1;33m \u001b[0msummaries\u001b[0m \u001b[1;33m=\u001b[0m \u001b[1;33m{\u001b[0m\u001b[0mticker\u001b[0m\u001b[1;33m:\u001b[0m\u001b[0msummarize\u001b[0m\u001b[1;33m(\u001b[0m\u001b[0marticles\u001b[0m\u001b[1;33m[\u001b[0m\u001b[0mticker\u001b[0m\u001b[1;33m]\u001b[0m\u001b[1;33m)\u001b[0m \u001b[1;32mfor\u001b[0m \u001b[0mticker\u001b[0m \u001b[1;32min\u001b[0m \u001b[0mmonitored_tickers\u001b[0m\u001b[1;33m}\u001b[0m\u001b[1;33m\u001b[0m\u001b[1;33m\u001b[0m\u001b[0m\n\u001b[0m\u001b[0;32m      2\u001b[0m \u001b[0msummaries\u001b[0m\u001b[1;33m\u001b[0m\u001b[1;33m\u001b[0m\u001b[0m\n",
      "\u001b[1;32m<ipython-input-15-c65d5482e8d2>\u001b[0m in \u001b[0;36msummarize\u001b[1;34m(articles)\u001b[0m\n\u001b[0;32m      2\u001b[0m     \u001b[0msummaries\u001b[0m \u001b[1;33m=\u001b[0m \u001b[1;33m[\u001b[0m\u001b[1;33m]\u001b[0m\u001b[1;33m\u001b[0m\u001b[1;33m\u001b[0m\u001b[0m\n\u001b[0;32m      3\u001b[0m     \u001b[1;32mfor\u001b[0m \u001b[0marticle\u001b[0m \u001b[1;32min\u001b[0m \u001b[0marticles\u001b[0m\u001b[1;33m:\u001b[0m\u001b[1;33m\u001b[0m\u001b[1;33m\u001b[0m\u001b[0m\n\u001b[1;32m----> 4\u001b[1;33m         \u001b[0minput_ids\u001b[0m \u001b[1;33m=\u001b[0m \u001b[0mtokenizer\u001b[0m\u001b[1;33m.\u001b[0m\u001b[0mencode\u001b[0m\u001b[1;33m(\u001b[0m\u001b[0marticle\u001b[0m\u001b[1;33m,\u001b[0m \u001b[0mreturn_tensors\u001b[0m\u001b[1;33m=\u001b[0m\u001b[1;34m'pt'\u001b[0m\u001b[1;33m)\u001b[0m\u001b[1;33m\u001b[0m\u001b[1;33m\u001b[0m\u001b[0m\n\u001b[0m\u001b[0;32m      5\u001b[0m         \u001b[0moutput\u001b[0m \u001b[1;33m=\u001b[0m \u001b[0mmodel\u001b[0m\u001b[1;33m.\u001b[0m\u001b[0mgenerate\u001b[0m\u001b[1;33m(\u001b[0m\u001b[0minput_ids\u001b[0m\u001b[1;33m,\u001b[0m \u001b[0mmax_length\u001b[0m\u001b[1;33m=\u001b[0m\u001b[1;36m55\u001b[0m\u001b[1;33m,\u001b[0m \u001b[0mnum_beams\u001b[0m\u001b[1;33m=\u001b[0m\u001b[1;36m5\u001b[0m\u001b[1;33m,\u001b[0m \u001b[0mearly_stopping\u001b[0m\u001b[1;33m=\u001b[0m\u001b[1;32mTrue\u001b[0m\u001b[1;33m)\u001b[0m\u001b[1;33m\u001b[0m\u001b[1;33m\u001b[0m\u001b[0m\n\u001b[0;32m      6\u001b[0m         \u001b[0msummary\u001b[0m \u001b[1;33m=\u001b[0m \u001b[0mtokenizer\u001b[0m\u001b[1;33m.\u001b[0m\u001b[0mdecode\u001b[0m\u001b[1;33m(\u001b[0m\u001b[0moutput\u001b[0m\u001b[1;33m[\u001b[0m\u001b[1;36m0\u001b[0m\u001b[1;33m]\u001b[0m\u001b[1;33m,\u001b[0m \u001b[0mskip_special_tokens\u001b[0m\u001b[1;33m=\u001b[0m\u001b[1;32mTrue\u001b[0m\u001b[1;33m)\u001b[0m\u001b[1;33m\u001b[0m\u001b[1;33m\u001b[0m\u001b[0m\n",
      "\u001b[1;31mAttributeError\u001b[0m: 'NoneType' object has no attribute 'encode'"
     ]
    }
   ],
   "source": [
    "summaries = {ticker:summarize(articles[ticker]) for ticker in monitored_tickers}\n",
    "summaries"
   ]
  },
  {
   "cell_type": "code",
   "execution_count": null,
   "id": "7e3b546c",
   "metadata": {},
   "outputs": [],
   "source": []
  }
 ],
 "metadata": {
  "kernelspec": {
   "display_name": "Python 3",
   "language": "python",
   "name": "python3"
  },
  "language_info": {
   "codemirror_mode": {
    "name": "ipython",
    "version": 3
   },
   "file_extension": ".py",
   "mimetype": "text/x-python",
   "name": "python",
   "nbconvert_exporter": "python",
   "pygments_lexer": "ipython3",
   "version": "3.9.1"
  }
 },
 "nbformat": 4,
 "nbformat_minor": 5
}
