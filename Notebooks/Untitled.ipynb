{
 "cells": [
  {
   "cell_type": "code",
   "execution_count": 55,
   "id": "c84923c7",
   "metadata": {},
   "outputs": [],
   "source": [
    "import pandas as pd\n",
    "import os\n",
    "from sklearn.preprocessing import MinMaxScaler\n",
    "import numpy as np"
   ]
  },
  {
   "cell_type": "code",
   "execution_count": 4,
   "id": "62936405",
   "metadata": {},
   "outputs": [
    {
     "data": {
      "text/plain": [
       "'C:\\\\Users\\\\aniru\\\\Desktop\\\\Amrita\\\\Sem 4\\\\Mathematics for Intelligent Systems\\\\Project\\\\SpatioTemporalKoopman'"
      ]
     },
     "execution_count": 4,
     "metadata": {},
     "output_type": "execute_result"
    }
   ],
   "source": [
    "os.chdir('..')\n",
    "os.getcwd()"
   ]
  },
  {
   "cell_type": "markdown",
   "id": "1509f77b",
   "metadata": {},
   "source": [
    "# Data Processing"
   ]
  },
  {
   "cell_type": "code",
   "execution_count": 5,
   "id": "8212a845",
   "metadata": {},
   "outputs": [],
   "source": [
    "pathData = os.path.join(os.getcwd(), 'data', 'BTC-USD.csv')"
   ]
  },
  {
   "cell_type": "code",
   "execution_count": 6,
   "id": "14d8f180",
   "metadata": {},
   "outputs": [],
   "source": [
    "data = pd.read_csv(pathData)"
   ]
  },
  {
   "cell_type": "code",
   "execution_count": 8,
   "id": "bffcac3a",
   "metadata": {},
   "outputs": [],
   "source": [
    "data.drop(columns=['Adj Close', 'High', 'Low', 'Open'], inplace=True)"
   ]
  },
  {
   "cell_type": "code",
   "execution_count": 12,
   "id": "7a02d0b4",
   "metadata": {},
   "outputs": [],
   "source": [
    "scaler = MinMaxScaler()\n",
    "volD = data['Volume'].values.reshape(-1,1)\n",
    "aa = scaler.fit_transform(volD)\n",
    "data['Vol'] = pd.DataFrame(aa)"
   ]
  },
  {
   "cell_type": "code",
   "execution_count": 14,
   "id": "fe93eb95",
   "metadata": {},
   "outputs": [
    {
     "data": {
      "text/html": [
       "<div>\n",
       "<style scoped>\n",
       "    .dataframe tbody tr th:only-of-type {\n",
       "        vertical-align: middle;\n",
       "    }\n",
       "\n",
       "    .dataframe tbody tr th {\n",
       "        vertical-align: top;\n",
       "    }\n",
       "\n",
       "    .dataframe thead th {\n",
       "        text-align: right;\n",
       "    }\n",
       "</style>\n",
       "<table border=\"1\" class=\"dataframe\">\n",
       "  <thead>\n",
       "    <tr style=\"text-align: right;\">\n",
       "      <th></th>\n",
       "      <th>Date</th>\n",
       "      <th>Close</th>\n",
       "      <th>Volume</th>\n",
       "      <th>Vol</th>\n",
       "    </tr>\n",
       "  </thead>\n",
       "  <tbody>\n",
       "    <tr>\n",
       "      <th>2106</th>\n",
       "      <td>2021-05-13</td>\n",
       "      <td>49716.191406</td>\n",
       "      <td>9.672115e+10</td>\n",
       "      <td>0.275558</td>\n",
       "    </tr>\n",
       "    <tr>\n",
       "      <th>2107</th>\n",
       "      <td>2021-05-14</td>\n",
       "      <td>49880.535156</td>\n",
       "      <td>5.573750e+10</td>\n",
       "      <td>0.158780</td>\n",
       "    </tr>\n",
       "    <tr>\n",
       "      <th>2108</th>\n",
       "      <td>2021-05-15</td>\n",
       "      <td>46760.187500</td>\n",
       "      <td>5.916105e+10</td>\n",
       "      <td>0.168535</td>\n",
       "    </tr>\n",
       "    <tr>\n",
       "      <th>2109</th>\n",
       "      <td>2021-05-16</td>\n",
       "      <td>46456.058594</td>\n",
       "      <td>6.404787e+10</td>\n",
       "      <td>0.182460</td>\n",
       "    </tr>\n",
       "    <tr>\n",
       "      <th>2110</th>\n",
       "      <td>2021-05-17</td>\n",
       "      <td>45367.214844</td>\n",
       "      <td>8.320761e+10</td>\n",
       "      <td>0.237053</td>\n",
       "    </tr>\n",
       "  </tbody>\n",
       "</table>\n",
       "</div>"
      ],
      "text/plain": [
       "            Date         Close        Volume       Vol\n",
       "2106  2021-05-13  49716.191406  9.672115e+10  0.275558\n",
       "2107  2021-05-14  49880.535156  5.573750e+10  0.158780\n",
       "2108  2021-05-15  46760.187500  5.916105e+10  0.168535\n",
       "2109  2021-05-16  46456.058594  6.404787e+10  0.182460\n",
       "2110  2021-05-17  45367.214844  8.320761e+10  0.237053"
      ]
     },
     "execution_count": 14,
     "metadata": {},
     "output_type": "execute_result"
    }
   ],
   "source": [
    "data.tail()"
   ]
  },
  {
   "cell_type": "code",
   "execution_count": 18,
   "id": "ecc595a1",
   "metadata": {},
   "outputs": [
    {
     "data": {
      "text/plain": [
       "'2015-08-07'"
      ]
     },
     "execution_count": 18,
     "metadata": {},
     "output_type": "execute_result"
    }
   ],
   "source": [
    "data['Date'][0]"
   ]
  },
  {
   "cell_type": "code",
   "execution_count": 24,
   "id": "b1c31d0e",
   "metadata": {},
   "outputs": [],
   "source": [
    "daa = data['Date'].values\n",
    "mon = []\n",
    "dat = []\n",
    "for i in daa:\n",
    "    mon.append(i[5:7])\n",
    "    dat.append(i[8:])\n",
    "data['Month'] = pd.DataFrame(mon)\n",
    "data['Day'] = pd.DataFrame(dat)"
   ]
  },
  {
   "cell_type": "code",
   "execution_count": 25,
   "id": "d9a07c88",
   "metadata": {},
   "outputs": [
    {
     "data": {
      "text/html": [
       "<div>\n",
       "<style scoped>\n",
       "    .dataframe tbody tr th:only-of-type {\n",
       "        vertical-align: middle;\n",
       "    }\n",
       "\n",
       "    .dataframe tbody tr th {\n",
       "        vertical-align: top;\n",
       "    }\n",
       "\n",
       "    .dataframe thead th {\n",
       "        text-align: right;\n",
       "    }\n",
       "</style>\n",
       "<table border=\"1\" class=\"dataframe\">\n",
       "  <thead>\n",
       "    <tr style=\"text-align: right;\">\n",
       "      <th></th>\n",
       "      <th>Date</th>\n",
       "      <th>Close</th>\n",
       "      <th>Volume</th>\n",
       "      <th>Vol</th>\n",
       "      <th>Month</th>\n",
       "      <th>Day</th>\n",
       "    </tr>\n",
       "  </thead>\n",
       "  <tbody>\n",
       "    <tr>\n",
       "      <th>0</th>\n",
       "      <td>2015-08-07</td>\n",
       "      <td>279.584991</td>\n",
       "      <td>42484800.0</td>\n",
       "      <td>0.000085</td>\n",
       "      <td>08</td>\n",
       "      <td>07</td>\n",
       "    </tr>\n",
       "    <tr>\n",
       "      <th>1</th>\n",
       "      <td>2015-08-08</td>\n",
       "      <td>260.997009</td>\n",
       "      <td>58533000.0</td>\n",
       "      <td>0.000131</td>\n",
       "      <td>08</td>\n",
       "      <td>08</td>\n",
       "    </tr>\n",
       "    <tr>\n",
       "      <th>2</th>\n",
       "      <td>2015-08-09</td>\n",
       "      <td>265.083008</td>\n",
       "      <td>23789600.0</td>\n",
       "      <td>0.000032</td>\n",
       "      <td>08</td>\n",
       "      <td>09</td>\n",
       "    </tr>\n",
       "    <tr>\n",
       "      <th>3</th>\n",
       "      <td>2015-08-10</td>\n",
       "      <td>264.470001</td>\n",
       "      <td>20979400.0</td>\n",
       "      <td>0.000024</td>\n",
       "      <td>08</td>\n",
       "      <td>10</td>\n",
       "    </tr>\n",
       "    <tr>\n",
       "      <th>4</th>\n",
       "      <td>2015-08-11</td>\n",
       "      <td>270.385986</td>\n",
       "      <td>25433900.0</td>\n",
       "      <td>0.000036</td>\n",
       "      <td>08</td>\n",
       "      <td>11</td>\n",
       "    </tr>\n",
       "  </tbody>\n",
       "</table>\n",
       "</div>"
      ],
      "text/plain": [
       "         Date       Close      Volume       Vol Month Day\n",
       "0  2015-08-07  279.584991  42484800.0  0.000085    08  07\n",
       "1  2015-08-08  260.997009  58533000.0  0.000131    08  08\n",
       "2  2015-08-09  265.083008  23789600.0  0.000032    08  09\n",
       "3  2015-08-10  264.470001  20979400.0  0.000024    08  10\n",
       "4  2015-08-11  270.385986  25433900.0  0.000036    08  11"
      ]
     },
     "execution_count": 25,
     "metadata": {},
     "output_type": "execute_result"
    }
   ],
   "source": [
    "data.head()"
   ]
  },
  {
   "cell_type": "markdown",
   "id": "a0bc21d5",
   "metadata": {},
   "source": [
    "# Tensor Creation"
   ]
  },
  {
   "cell_type": "code",
   "execution_count": 69,
   "id": "04529e86",
   "metadata": {},
   "outputs": [],
   "source": [
    "def snap(dat):\n",
    "    mon = dat['Month'].values\n",
    "    dayy = dat['Day'].values\n",
    "    vol = dat['Vol'].values\n",
    "    close = dat['Close'].values\n",
    "    snps = [[]]\n",
    "    ctr = 0\n",
    "    for i in range(1,(len(mon)-1)):\n",
    "        if(mon[i-1] != mon[i]):\n",
    "            snps.append(np.zeros(shape=(10**4,31)))\n",
    "    for i in range(len(mon)):\n",
    "        if(i != 0):\n",
    "            if(mon[i-1] != mon[i]):\n",
    "                ctr += 1\n",
    "            \n",
    "        snps[ctr][int(dayy[i])-1][int(vol[i]*10**6)] = close[i]\n",
    "        print(snps)\n",
    "    return snps"
   ]
  },
  {
   "cell_type": "code",
   "execution_count": 70,
   "id": "74c50695",
   "metadata": {},
   "outputs": [
    {
     "ename": "IndexError",
     "evalue": "list index out of range",
     "output_type": "error",
     "traceback": [
      "\u001b[1;31m---------------------------------------------------------------------------\u001b[0m",
      "\u001b[1;31mIndexError\u001b[0m                                Traceback (most recent call last)",
      "\u001b[1;32m<ipython-input-70-00b2746059b7>\u001b[0m in \u001b[0;36m<module>\u001b[1;34m\u001b[0m\n\u001b[1;32m----> 1\u001b[1;33m \u001b[0maa\u001b[0m \u001b[1;33m=\u001b[0m \u001b[0msnap\u001b[0m\u001b[1;33m(\u001b[0m\u001b[0mdata\u001b[0m\u001b[1;33m)\u001b[0m\u001b[1;33m\u001b[0m\u001b[1;33m\u001b[0m\u001b[0m\n\u001b[0m",
      "\u001b[1;32m<ipython-input-69-8dbc2947f098>\u001b[0m in \u001b[0;36msnap\u001b[1;34m(dat)\u001b[0m\n\u001b[0;32m     13\u001b[0m             \u001b[1;32mif\u001b[0m\u001b[1;33m(\u001b[0m\u001b[0mmon\u001b[0m\u001b[1;33m[\u001b[0m\u001b[0mi\u001b[0m\u001b[1;33m-\u001b[0m\u001b[1;36m1\u001b[0m\u001b[1;33m]\u001b[0m \u001b[1;33m!=\u001b[0m \u001b[0mmon\u001b[0m\u001b[1;33m[\u001b[0m\u001b[0mi\u001b[0m\u001b[1;33m]\u001b[0m\u001b[1;33m)\u001b[0m\u001b[1;33m:\u001b[0m\u001b[1;33m\u001b[0m\u001b[1;33m\u001b[0m\u001b[0m\n\u001b[0;32m     14\u001b[0m                 \u001b[0mctr\u001b[0m \u001b[1;33m+=\u001b[0m \u001b[1;36m1\u001b[0m\u001b[1;33m\u001b[0m\u001b[1;33m\u001b[0m\u001b[0m\n\u001b[1;32m---> 15\u001b[1;33m         \u001b[0msnps\u001b[0m\u001b[1;33m[\u001b[0m\u001b[0mctr\u001b[0m\u001b[1;33m]\u001b[0m\u001b[1;33m[\u001b[0m\u001b[0mint\u001b[0m\u001b[1;33m(\u001b[0m\u001b[0mdayy\u001b[0m\u001b[1;33m[\u001b[0m\u001b[0mi\u001b[0m\u001b[1;33m]\u001b[0m\u001b[1;33m)\u001b[0m\u001b[1;33m-\u001b[0m\u001b[1;36m1\u001b[0m\u001b[1;33m]\u001b[0m\u001b[1;33m[\u001b[0m\u001b[0mint\u001b[0m\u001b[1;33m(\u001b[0m\u001b[0mvol\u001b[0m\u001b[1;33m[\u001b[0m\u001b[0mi\u001b[0m\u001b[1;33m]\u001b[0m\u001b[1;33m*\u001b[0m\u001b[1;36m10\u001b[0m\u001b[1;33m**\u001b[0m\u001b[1;36m6\u001b[0m\u001b[1;33m)\u001b[0m\u001b[1;33m]\u001b[0m \u001b[1;33m=\u001b[0m \u001b[0mclose\u001b[0m\u001b[1;33m[\u001b[0m\u001b[0mi\u001b[0m\u001b[1;33m]\u001b[0m\u001b[1;33m\u001b[0m\u001b[1;33m\u001b[0m\u001b[0m\n\u001b[0m\u001b[0;32m     16\u001b[0m         \u001b[0mprint\u001b[0m\u001b[1;33m(\u001b[0m\u001b[0msnps\u001b[0m\u001b[1;33m)\u001b[0m\u001b[1;33m\u001b[0m\u001b[1;33m\u001b[0m\u001b[0m\n\u001b[0;32m     17\u001b[0m     \u001b[1;32mreturn\u001b[0m \u001b[0msnps\u001b[0m\u001b[1;33m\u001b[0m\u001b[1;33m\u001b[0m\u001b[0m\n",
      "\u001b[1;31mIndexError\u001b[0m: list index out of range"
     ]
    }
   ],
   "source": [
    "aa = snap(data)"
   ]
  }
 ],
 "metadata": {
  "kernelspec": {
   "display_name": "Python 3",
   "language": "python",
   "name": "python3"
  },
  "language_info": {
   "codemirror_mode": {
    "name": "ipython",
    "version": 3
   },
   "file_extension": ".py",
   "mimetype": "text/x-python",
   "name": "python",
   "nbconvert_exporter": "python",
   "pygments_lexer": "ipython3",
   "version": "3.9.1"
  }
 },
 "nbformat": 4,
 "nbformat_minor": 5
}
