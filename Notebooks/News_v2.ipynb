{
  "nbformat": 4,
  "nbformat_minor": 0,
  "metadata": {
    "colab": {
      "name": "News_v2.ipynb",
      "provenance": [],
      "collapsed_sections": []
    },
    "kernelspec": {
      "name": "python3",
      "display_name": "Python 3"
    },
    "language_info": {
      "name": "python"
    }
  },
  "cells": [
    {
      "cell_type": "code",
      "metadata": {
        "id": "xJB8k85uyN6p"
      },
      "source": [
        "import datanews\n",
        "from datetime import date, timedelta, datetime\n",
        "from dateutil.rrule import rrule, DAILY\n",
        "from tqdm import tqdm\n",
        "import pandas as pd\n",
        "import time\n",
        "from transformers import AutoTokenizer, AutoModelForSequenceClassification\n",
        "import torch\n",
        "datanews.api_key = '0j4msa1c7uwnpv9v3air2bz66'"
      ],
      "execution_count": 1,
      "outputs": []
    },
    {
      "cell_type": "code",
      "metadata": {
        "colab": {
          "base_uri": "https://localhost:8080/"
        },
        "id": "3bh_yQhZz_u5",
        "outputId": "25cfc394-507d-4616-84b5-e0eca455a25d"
      },
      "source": [
        "frames=[]\n",
        "delta = timedelta(days=1)\n",
        "start_date = date(2019, 1, 1)\n",
        "end_date = date(2021, 6, 3)\n",
        "for i in tqdm(range(880)):\n",
        "    s = start_date.strftime(\"%Y-%m-%d\")\n",
        "    e = (start_date+delta).strftime(\"%Y-%m-%d\")\n",
        "    response = datanews.news(q='Doge',from_date=s,to_date=e)\n",
        "    articles = response['hits'] \n",
        "    d = pd.DataFrame(articles)  \n",
        "    frames.append(d)\n",
        "    start_date+=delta\n",
        "    if start_date>end_date:\n",
        "      break\n",
        "    time.sleep(1.5)"
      ],
      "execution_count": 2,
      "outputs": [
        {
          "output_type": "stream",
          "text": [
            "100%|██████████| 880/880 [25:57<00:00,  1.77s/it]\n"
          ],
          "name": "stderr"
        }
      ]
    },
    {
      "cell_type": "code",
      "metadata": {
        "id": "tgYJbDExy1eW"
      },
      "source": [
        "data = pd.concat(frames)\n",
        "data.to_csv(\"new_daily.csv\")"
      ],
      "execution_count": 44,
      "outputs": []
    },
    {
      "cell_type": "code",
      "metadata": {
        "id": "9wnVzNSD6QSX"
      },
      "source": [
        "data.drop(columns=['url', 'source', 'authors','country', 'language',\n",
        "       'description', 'imageUrl', 'content'],inplace=True)"
      ],
      "execution_count": 45,
      "outputs": []
    },
    {
      "cell_type": "code",
      "metadata": {
        "id": "LMYB7I5G5zRo"
      },
      "source": [
        "tokenizer = AutoTokenizer.from_pretrained('nlptown/bert-base-multilingual-uncased-sentiment')\n",
        "\n",
        "model = AutoModelForSequenceClassification.from_pretrained('nlptown/bert-base-multilingual-uncased-sentiment')\n",
        "\n",
        "def sentiment_score(review):\n",
        "    tokens = tokenizer.encode(review, return_tensors='pt')\n",
        "    result = model(tokens)\n",
        "    return int(torch.argmax(result.logits))+1"
      ],
      "execution_count": 5,
      "outputs": []
    },
    {
      "cell_type": "code",
      "metadata": {
        "id": "AK1M6OrUfJ0N"
      },
      "source": [
        "x = data['pubDate'].tolist()\n",
        "for i in range(len(x)):\n",
        "  x[i] = x[i].split('T')[0]\n",
        "data['pubDate']=pd.DataFrame(x)"
      ],
      "execution_count": 46,
      "outputs": []
    },
    {
      "cell_type": "code",
      "metadata": {
        "colab": {
          "base_uri": "https://localhost:8080/"
        },
        "id": "cuXKsonz5_lC",
        "outputId": "2182ab85-9619-4eff-ed3c-b8ff51f24cb3"
      },
      "source": [
        "sent=[]\n",
        "li = data['title'].tolist()\n",
        "for i in tqdm(li):\n",
        "  sent.append(sentiment_score(i))"
      ],
      "execution_count": 47,
      "outputs": [
        {
          "output_type": "stream",
          "text": [
            "100%|██████████| 2372/2372 [05:24<00:00,  7.31it/s]\n"
          ],
          "name": "stderr"
        }
      ]
    },
    {
      "cell_type": "code",
      "metadata": {
        "id": "PxRW9JlmnRTl"
      },
      "source": [
        "ss={}\n",
        "\n",
        "ss['Sent'] = sent\n",
        "ss['date'] = x\n",
        "s = pd.DataFrame(ss)"
      ],
      "execution_count": 56,
      "outputs": []
    },
    {
      "cell_type": "code",
      "metadata": {
        "colab": {
          "base_uri": "https://localhost:8080/",
          "height": 204
        },
        "id": "GqNZBSN2obzf",
        "outputId": "7ada99ee-4ae2-486b-f982-6336a470341b"
      },
      "source": [
        "s.tail()"
      ],
      "execution_count": 59,
      "outputs": [
        {
          "output_type": "execute_result",
          "data": {
            "text/html": [
              "<div>\n",
              "<style scoped>\n",
              "    .dataframe tbody tr th:only-of-type {\n",
              "        vertical-align: middle;\n",
              "    }\n",
              "\n",
              "    .dataframe tbody tr th {\n",
              "        vertical-align: top;\n",
              "    }\n",
              "\n",
              "    .dataframe thead th {\n",
              "        text-align: right;\n",
              "    }\n",
              "</style>\n",
              "<table border=\"1\" class=\"dataframe\">\n",
              "  <thead>\n",
              "    <tr style=\"text-align: right;\">\n",
              "      <th></th>\n",
              "      <th>Sent</th>\n",
              "      <th>date</th>\n",
              "    </tr>\n",
              "  </thead>\n",
              "  <tbody>\n",
              "    <tr>\n",
              "      <th>2367</th>\n",
              "      <td>1</td>\n",
              "      <td>2021-05-29</td>\n",
              "    </tr>\n",
              "    <tr>\n",
              "      <th>2368</th>\n",
              "      <td>1</td>\n",
              "      <td>2021-05-30</td>\n",
              "    </tr>\n",
              "    <tr>\n",
              "      <th>2369</th>\n",
              "      <td>4</td>\n",
              "      <td>2021-05-29</td>\n",
              "    </tr>\n",
              "    <tr>\n",
              "      <th>2370</th>\n",
              "      <td>1</td>\n",
              "      <td>2021-05-30</td>\n",
              "    </tr>\n",
              "    <tr>\n",
              "      <th>2371</th>\n",
              "      <td>5</td>\n",
              "      <td>2021-05-30</td>\n",
              "    </tr>\n",
              "  </tbody>\n",
              "</table>\n",
              "</div>"
            ],
            "text/plain": [
              "      Sent        date\n",
              "2367     1  2021-05-29\n",
              "2368     1  2021-05-30\n",
              "2369     4  2021-05-29\n",
              "2370     1  2021-05-30\n",
              "2371     5  2021-05-30"
            ]
          },
          "metadata": {
            "tags": []
          },
          "execution_count": 59
        }
      ]
    },
    {
      "cell_type": "code",
      "metadata": {
        "id": "lDpUxCbAlcdF"
      },
      "source": [
        "sent_date=s.groupby(['date']).mean()"
      ],
      "execution_count": 80,
      "outputs": []
    },
    {
      "cell_type": "code",
      "metadata": {
        "id": "InxBDI-qowSS"
      },
      "source": [
        "sent_date.to_csv(\"date_sent.csv\")"
      ],
      "execution_count": 63,
      "outputs": []
    },
    {
      "cell_type": "code",
      "metadata": {
        "colab": {
          "base_uri": "https://localhost:8080/",
          "height": 235
        },
        "id": "5XAEmaEDqFQJ",
        "outputId": "1a6a9d0c-3da8-4a0c-e881-a5d18630b0fa"
      },
      "source": [
        "sent_date.head()"
      ],
      "execution_count": 81,
      "outputs": [
        {
          "output_type": "execute_result",
          "data": {
            "text/html": [
              "<div>\n",
              "<style scoped>\n",
              "    .dataframe tbody tr th:only-of-type {\n",
              "        vertical-align: middle;\n",
              "    }\n",
              "\n",
              "    .dataframe tbody tr th {\n",
              "        vertical-align: top;\n",
              "    }\n",
              "\n",
              "    .dataframe thead th {\n",
              "        text-align: right;\n",
              "    }\n",
              "</style>\n",
              "<table border=\"1\" class=\"dataframe\">\n",
              "  <thead>\n",
              "    <tr style=\"text-align: right;\">\n",
              "      <th></th>\n",
              "      <th>Sent</th>\n",
              "    </tr>\n",
              "    <tr>\n",
              "      <th>date</th>\n",
              "      <th></th>\n",
              "    </tr>\n",
              "  </thead>\n",
              "  <tbody>\n",
              "    <tr>\n",
              "      <th>2019-01-24</th>\n",
              "      <td>1.0</td>\n",
              "    </tr>\n",
              "    <tr>\n",
              "      <th>2019-04-01</th>\n",
              "      <td>5.0</td>\n",
              "    </tr>\n",
              "    <tr>\n",
              "      <th>2019-07-05</th>\n",
              "      <td>5.0</td>\n",
              "    </tr>\n",
              "    <tr>\n",
              "      <th>2019-08-30</th>\n",
              "      <td>1.0</td>\n",
              "    </tr>\n",
              "    <tr>\n",
              "      <th>2019-10-09</th>\n",
              "      <td>5.0</td>\n",
              "    </tr>\n",
              "  </tbody>\n",
              "</table>\n",
              "</div>"
            ],
            "text/plain": [
              "            Sent\n",
              "date            \n",
              "2019-01-24   1.0\n",
              "2019-04-01   5.0\n",
              "2019-07-05   5.0\n",
              "2019-08-30   1.0\n",
              "2019-10-09   5.0"
            ]
          },
          "metadata": {
            "tags": []
          },
          "execution_count": 81
        }
      ]
    },
    {
      "cell_type": "code",
      "metadata": {
        "id": "yn_WFqt4rPZS"
      },
      "source": [
        ""
      ],
      "execution_count": null,
      "outputs": []
    }
  ]
}