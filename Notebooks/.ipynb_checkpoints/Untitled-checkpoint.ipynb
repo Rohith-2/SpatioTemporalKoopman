{
 "cells": [
  {
   "cell_type": "code",
   "execution_count": 10,
   "id": "c84923c7",
   "metadata": {},
   "outputs": [],
   "source": [
    "import pandas as pd\n",
    "import os\n",
    "from sklearn.preprocessing import MinMaxScaler"
   ]
  },
  {
   "cell_type": "code",
   "execution_count": 4,
   "id": "d85cbc80",
   "metadata": {},
   "outputs": [
    {
     "data": {
      "text/plain": [
       "'C:\\\\Users\\\\aniru\\\\Desktop\\\\Amrita\\\\Sem 4\\\\Mathematics for Intelligent Systems\\\\Project\\\\SpatioTemporalKoopman'"
      ]
     },
     "execution_count": 4,
     "metadata": {},
     "output_type": "execute_result"
    }
   ],
   "source": [
    "os.chdir('..')\n",
    "os.getcwd()"
   ]
  },
  {
   "cell_type": "markdown",
   "id": "679fd43c",
   "metadata": {},
   "source": [
    "# Data Processing"
   ]
  },
  {
   "cell_type": "code",
   "execution_count": 5,
   "id": "dc07dec9",
   "metadata": {},
   "outputs": [],
   "source": [
    "pathData = os.path.join(os.getcwd(), 'data', 'BTC-USD.csv')"
   ]
  },
  {
   "cell_type": "code",
   "execution_count": 6,
   "id": "f61be8c2",
   "metadata": {},
   "outputs": [],
   "source": [
    "data = pd.read_csv(pathData)"
   ]
  },
  {
   "cell_type": "code",
   "execution_count": 8,
   "id": "b11fe539",
   "metadata": {},
   "outputs": [],
   "source": [
    "data.drop(columns=['Adj Close', 'High', 'Low', 'Open'], inplace=True)"
   ]
  },
  {
   "cell_type": "code",
   "execution_count": 12,
   "id": "8479afb2",
   "metadata": {},
   "outputs": [],
   "source": [
    "scaler = MinMaxScaler()\n",
    "volD = data['Volume'].values.reshape(-1,1)\n",
    "aa = scaler.fit_transform(volD)\n",
    "data['Vol'] = pd.DataFrame(aa)"
   ]
  },
  {
   "cell_type": "code",
   "execution_count": 14,
   "id": "182c7818",
   "metadata": {},
   "outputs": [
    {
     "data": {
      "text/html": [
       "<div>\n",
       "<style scoped>\n",
       "    .dataframe tbody tr th:only-of-type {\n",
       "        vertical-align: middle;\n",
       "    }\n",
       "\n",
       "    .dataframe tbody tr th {\n",
       "        vertical-align: top;\n",
       "    }\n",
       "\n",
       "    .dataframe thead th {\n",
       "        text-align: right;\n",
       "    }\n",
       "</style>\n",
       "<table border=\"1\" class=\"dataframe\">\n",
       "  <thead>\n",
       "    <tr style=\"text-align: right;\">\n",
       "      <th></th>\n",
       "      <th>Date</th>\n",
       "      <th>Close</th>\n",
       "      <th>Volume</th>\n",
       "      <th>Vol</th>\n",
       "    </tr>\n",
       "  </thead>\n",
       "  <tbody>\n",
       "    <tr>\n",
       "      <th>2106</th>\n",
       "      <td>2021-05-13</td>\n",
       "      <td>49716.191406</td>\n",
       "      <td>9.672115e+10</td>\n",
       "      <td>0.275558</td>\n",
       "    </tr>\n",
       "    <tr>\n",
       "      <th>2107</th>\n",
       "      <td>2021-05-14</td>\n",
       "      <td>49880.535156</td>\n",
       "      <td>5.573750e+10</td>\n",
       "      <td>0.158780</td>\n",
       "    </tr>\n",
       "    <tr>\n",
       "      <th>2108</th>\n",
       "      <td>2021-05-15</td>\n",
       "      <td>46760.187500</td>\n",
       "      <td>5.916105e+10</td>\n",
       "      <td>0.168535</td>\n",
       "    </tr>\n",
       "    <tr>\n",
       "      <th>2109</th>\n",
       "      <td>2021-05-16</td>\n",
       "      <td>46456.058594</td>\n",
       "      <td>6.404787e+10</td>\n",
       "      <td>0.182460</td>\n",
       "    </tr>\n",
       "    <tr>\n",
       "      <th>2110</th>\n",
       "      <td>2021-05-17</td>\n",
       "      <td>45367.214844</td>\n",
       "      <td>8.320761e+10</td>\n",
       "      <td>0.237053</td>\n",
       "    </tr>\n",
       "  </tbody>\n",
       "</table>\n",
       "</div>"
      ],
      "text/plain": [
       "            Date         Close        Volume       Vol\n",
       "2106  2021-05-13  49716.191406  9.672115e+10  0.275558\n",
       "2107  2021-05-14  49880.535156  5.573750e+10  0.158780\n",
       "2108  2021-05-15  46760.187500  5.916105e+10  0.168535\n",
       "2109  2021-05-16  46456.058594  6.404787e+10  0.182460\n",
       "2110  2021-05-17  45367.214844  8.320761e+10  0.237053"
      ]
     },
     "execution_count": 14,
     "metadata": {},
     "output_type": "execute_result"
    }
   ],
   "source": [
    "data.tail()"
   ]
  },
  {
   "cell_type": "code",
   "execution_count": 18,
   "id": "2a4e1a73",
   "metadata": {},
   "outputs": [
    {
     "data": {
      "text/plain": [
       "'2015-08-07'"
      ]
     },
     "execution_count": 18,
     "metadata": {},
     "output_type": "execute_result"
    }
   ],
   "source": [
    "data['Date'][0]"
   ]
  },
  {
   "cell_type": "code",
   "execution_count": 24,
   "id": "954fe479",
   "metadata": {},
   "outputs": [],
   "source": [
    "daa = data['Date'].values\n",
    "mon = []\n",
    "dat = []\n",
    "for i in daa:\n",
    "    mon.append(i[5:7])\n",
    "    dat.append(i[8:])\n",
    "data['Month'] = pd.DataFrame(mon)\n",
    "data['Day'] = pd.DataFrame(dat)"
   ]
  },
  {
   "cell_type": "code",
   "execution_count": 25,
   "id": "16f2ce92",
   "metadata": {},
   "outputs": [
    {
     "data": {
      "text/html": [
       "<div>\n",
       "<style scoped>\n",
       "    .dataframe tbody tr th:only-of-type {\n",
       "        vertical-align: middle;\n",
       "    }\n",
       "\n",
       "    .dataframe tbody tr th {\n",
       "        vertical-align: top;\n",
       "    }\n",
       "\n",
       "    .dataframe thead th {\n",
       "        text-align: right;\n",
       "    }\n",
       "</style>\n",
       "<table border=\"1\" class=\"dataframe\">\n",
       "  <thead>\n",
       "    <tr style=\"text-align: right;\">\n",
       "      <th></th>\n",
       "      <th>Date</th>\n",
       "      <th>Close</th>\n",
       "      <th>Volume</th>\n",
       "      <th>Vol</th>\n",
       "      <th>Month</th>\n",
       "      <th>Day</th>\n",
       "    </tr>\n",
       "  </thead>\n",
       "  <tbody>\n",
       "    <tr>\n",
       "      <th>0</th>\n",
       "      <td>2015-08-07</td>\n",
       "      <td>279.584991</td>\n",
       "      <td>42484800.0</td>\n",
       "      <td>0.000085</td>\n",
       "      <td>08</td>\n",
       "      <td>07</td>\n",
       "    </tr>\n",
       "    <tr>\n",
       "      <th>1</th>\n",
       "      <td>2015-08-08</td>\n",
       "      <td>260.997009</td>\n",
       "      <td>58533000.0</td>\n",
       "      <td>0.000131</td>\n",
       "      <td>08</td>\n",
       "      <td>08</td>\n",
       "    </tr>\n",
       "    <tr>\n",
       "      <th>2</th>\n",
       "      <td>2015-08-09</td>\n",
       "      <td>265.083008</td>\n",
       "      <td>23789600.0</td>\n",
       "      <td>0.000032</td>\n",
       "      <td>08</td>\n",
       "      <td>09</td>\n",
       "    </tr>\n",
       "    <tr>\n",
       "      <th>3</th>\n",
       "      <td>2015-08-10</td>\n",
       "      <td>264.470001</td>\n",
       "      <td>20979400.0</td>\n",
       "      <td>0.000024</td>\n",
       "      <td>08</td>\n",
       "      <td>10</td>\n",
       "    </tr>\n",
       "    <tr>\n",
       "      <th>4</th>\n",
       "      <td>2015-08-11</td>\n",
       "      <td>270.385986</td>\n",
       "      <td>25433900.0</td>\n",
       "      <td>0.000036</td>\n",
       "      <td>08</td>\n",
       "      <td>11</td>\n",
       "    </tr>\n",
       "  </tbody>\n",
       "</table>\n",
       "</div>"
      ],
      "text/plain": [
       "         Date       Close      Volume       Vol Month Day\n",
       "0  2015-08-07  279.584991  42484800.0  0.000085    08  07\n",
       "1  2015-08-08  260.997009  58533000.0  0.000131    08  08\n",
       "2  2015-08-09  265.083008  23789600.0  0.000032    08  09\n",
       "3  2015-08-10  264.470001  20979400.0  0.000024    08  10\n",
       "4  2015-08-11  270.385986  25433900.0  0.000036    08  11"
      ]
     },
     "execution_count": 25,
     "metadata": {},
     "output_type": "execute_result"
    }
   ],
   "source": [
    "data.head()"
   ]
  },
  {
   "cell_type": "markdown",
   "id": "1fbe2ac8",
   "metadata": {},
   "source": [
    "# Tensor Creation"
   ]
  },
  {
   "cell_type": "code",
   "execution_count": 28,
   "id": "c6833dad",
   "metadata": {},
   "outputs": [],
   "source": [
    "a = [[]]\n",
    "a.append(12)\n",
    "a.extend([12])"
   ]
  },
  {
   "cell_type": "code",
   "execution_count": null,
   "id": "42a43706",
   "metadata": {},
   "outputs": [],
   "source": [
    "def snap(dat):\n",
    "    mon = dat['Month'].values\n",
    "    dayy = dat['Day'].values\n",
    "    vol = dat['Vol'].values\n",
    "    snps = [[]]\n",
    "    for i in range(len(mon)):\n",
    "        snps[dayy[i]-1][]"
   ]
  }
 ],
 "metadata": {
  "kernelspec": {
   "display_name": "Python 3",
   "language": "python",
   "name": "python3"
  },
  "language_info": {
   "codemirror_mode": {
    "name": "ipython",
    "version": 3
   },
   "file_extension": ".py",
   "mimetype": "text/x-python",
   "name": "python",
   "nbconvert_exporter": "python",
   "pygments_lexer": "ipython3",
   "version": "3.9.1"
  }
 },
 "nbformat": 4,
 "nbformat_minor": 5
}
