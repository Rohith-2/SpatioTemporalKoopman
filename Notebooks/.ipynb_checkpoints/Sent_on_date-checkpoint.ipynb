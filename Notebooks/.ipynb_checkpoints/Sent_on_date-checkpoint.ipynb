{
 "cells": [
  {
   "cell_type": "code",
   "execution_count": 1,
   "id": "78eb9979",
   "metadata": {},
   "outputs": [],
   "source": [
    "import os\n",
    "import pandas as pd\n",
    "import numpy as np\n",
    "import statistics"
   ]
  },
  {
   "cell_type": "code",
   "execution_count": 2,
   "id": "d2a036d4",
   "metadata": {},
   "outputs": [],
   "source": [
    "os.chdir('..')"
   ]
  },
  {
   "cell_type": "code",
   "execution_count": 3,
   "id": "e11db9b4",
   "metadata": {},
   "outputs": [],
   "source": [
    "path = os.path.join(os.getcwd(), 'data', 'sent.csv')\n",
    "data = pd.read_csv(path)"
   ]
  },
  {
   "cell_type": "code",
   "execution_count": 4,
   "id": "35e56b43",
   "metadata": {},
   "outputs": [],
   "source": [
    "data.drop(columns = ['Unnamed: 0'], inplace=True)"
   ]
  },
  {
   "cell_type": "code",
   "execution_count": 5,
   "id": "5f8a4562",
   "metadata": {},
   "outputs": [
    {
     "data": {
      "text/html": [
       "<div>\n",
       "<style scoped>\n",
       "    .dataframe tbody tr th:only-of-type {\n",
       "        vertical-align: middle;\n",
       "    }\n",
       "\n",
       "    .dataframe tbody tr th {\n",
       "        vertical-align: top;\n",
       "    }\n",
       "\n",
       "    .dataframe thead th {\n",
       "        text-align: right;\n",
       "    }\n",
       "</style>\n",
       "<table border=\"1\" class=\"dataframe\">\n",
       "  <thead>\n",
       "    <tr style=\"text-align: right;\">\n",
       "      <th></th>\n",
       "      <th>date</th>\n",
       "      <th>text</th>\n",
       "      <th>sent</th>\n",
       "    </tr>\n",
       "  </thead>\n",
       "  <tbody>\n",
       "    <tr>\n",
       "      <th>0</th>\n",
       "      <td>2021-02-10 23:59:04</td>\n",
       "      <td>Blue Ridge Bank shares halted by NYSE after #b...</td>\n",
       "      <td>1</td>\n",
       "    </tr>\n",
       "    <tr>\n",
       "      <th>1</th>\n",
       "      <td>2021-02-10 23:58:48</td>\n",
       "      <td>😎 Today, that's this #Thursday, we will do a \"...</td>\n",
       "      <td>5</td>\n",
       "    </tr>\n",
       "    <tr>\n",
       "      <th>2</th>\n",
       "      <td>2021-02-10 23:54:48</td>\n",
       "      <td>Guys evening, I have read this article about B...</td>\n",
       "      <td>5</td>\n",
       "    </tr>\n",
       "    <tr>\n",
       "      <th>3</th>\n",
       "      <td>2021-02-10 23:54:33</td>\n",
       "      <td>$BTC A big chance in a billion! Price: \\487264...</td>\n",
       "      <td>1</td>\n",
       "    </tr>\n",
       "    <tr>\n",
       "      <th>4</th>\n",
       "      <td>2021-02-10 23:54:06</td>\n",
       "      <td>This network is secured by 9 508 nodes as of t...</td>\n",
       "      <td>5</td>\n",
       "    </tr>\n",
       "  </tbody>\n",
       "</table>\n",
       "</div>"
      ],
      "text/plain": [
       "                  date                                               text  \\\n",
       "0  2021-02-10 23:59:04  Blue Ridge Bank shares halted by NYSE after #b...   \n",
       "1  2021-02-10 23:58:48  😎 Today, that's this #Thursday, we will do a \"...   \n",
       "2  2021-02-10 23:54:48  Guys evening, I have read this article about B...   \n",
       "3  2021-02-10 23:54:33  $BTC A big chance in a billion! Price: \\487264...   \n",
       "4  2021-02-10 23:54:06  This network is secured by 9 508 nodes as of t...   \n",
       "\n",
       "   sent  \n",
       "0     1  \n",
       "1     5  \n",
       "2     5  \n",
       "3     1  \n",
       "4     5  "
      ]
     },
     "execution_count": 5,
     "metadata": {},
     "output_type": "execute_result"
    }
   ],
   "source": [
    "data.head()"
   ]
  },
  {
   "cell_type": "code",
   "execution_count": 6,
   "id": "dd4ea2ae",
   "metadata": {},
   "outputs": [],
   "source": [
    "date = data['date'].fillna(' ').values.tolist()"
   ]
  },
  {
   "cell_type": "code",
   "execution_count": 7,
   "id": "994dc834",
   "metadata": {},
   "outputs": [],
   "source": [
    "data.drop(index=[64943, 64944], axis=0, inplace=True)"
   ]
  },
  {
   "cell_type": "code",
   "execution_count": 8,
   "id": "63d2d92b",
   "metadata": {},
   "outputs": [],
   "source": [
    "aa = []\n",
    "for i in date:\n",
    "    aa.append(i[0:10])"
   ]
  },
  {
   "cell_type": "code",
   "execution_count": 9,
   "id": "20e5e6d8",
   "metadata": {},
   "outputs": [],
   "source": [
    "data['date'] = pd.DataFrame(aa)"
   ]
  },
  {
   "cell_type": "code",
   "execution_count": 10,
   "id": "40ce4bb2",
   "metadata": {},
   "outputs": [
    {
     "data": {
      "text/html": [
       "<div>\n",
       "<style scoped>\n",
       "    .dataframe tbody tr th:only-of-type {\n",
       "        vertical-align: middle;\n",
       "    }\n",
       "\n",
       "    .dataframe tbody tr th {\n",
       "        vertical-align: top;\n",
       "    }\n",
       "\n",
       "    .dataframe thead th {\n",
       "        text-align: right;\n",
       "    }\n",
       "</style>\n",
       "<table border=\"1\" class=\"dataframe\">\n",
       "  <thead>\n",
       "    <tr style=\"text-align: right;\">\n",
       "      <th></th>\n",
       "      <th>date</th>\n",
       "      <th>text</th>\n",
       "      <th>sent</th>\n",
       "    </tr>\n",
       "  </thead>\n",
       "  <tbody>\n",
       "    <tr>\n",
       "      <th>0</th>\n",
       "      <td>2021-02-10</td>\n",
       "      <td>Blue Ridge Bank shares halted by NYSE after #b...</td>\n",
       "      <td>1</td>\n",
       "    </tr>\n",
       "    <tr>\n",
       "      <th>1</th>\n",
       "      <td>2021-02-10</td>\n",
       "      <td>😎 Today, that's this #Thursday, we will do a \"...</td>\n",
       "      <td>5</td>\n",
       "    </tr>\n",
       "    <tr>\n",
       "      <th>2</th>\n",
       "      <td>2021-02-10</td>\n",
       "      <td>Guys evening, I have read this article about B...</td>\n",
       "      <td>5</td>\n",
       "    </tr>\n",
       "    <tr>\n",
       "      <th>3</th>\n",
       "      <td>2021-02-10</td>\n",
       "      <td>$BTC A big chance in a billion! Price: \\487264...</td>\n",
       "      <td>1</td>\n",
       "    </tr>\n",
       "    <tr>\n",
       "      <th>4</th>\n",
       "      <td>2021-02-10</td>\n",
       "      <td>This network is secured by 9 508 nodes as of t...</td>\n",
       "      <td>5</td>\n",
       "    </tr>\n",
       "    <tr>\n",
       "      <th>...</th>\n",
       "      <td>...</td>\n",
       "      <td>...</td>\n",
       "      <td>...</td>\n",
       "    </tr>\n",
       "    <tr>\n",
       "      <th>106640</th>\n",
       "      <td>2021-04-17</td>\n",
       "      <td>Bitcoin - BTC\\nPrice: $61,390.93\\nChange in 1h...</td>\n",
       "      <td>1</td>\n",
       "    </tr>\n",
       "    <tr>\n",
       "      <th>106641</th>\n",
       "      <td>2021-04-17</td>\n",
       "      <td>Market Id : BTC-AUD\\nLast Price :79499.95\\n24 ...</td>\n",
       "      <td>1</td>\n",
       "    </tr>\n",
       "    <tr>\n",
       "      <th>106642</th>\n",
       "      <td>2021-04-17</td>\n",
       "      <td>Bitcoin: $60,793.91\\n -1.83% (-$1134.68)\\nHigh...</td>\n",
       "      <td>1</td>\n",
       "    </tr>\n",
       "    <tr>\n",
       "      <th>106643</th>\n",
       "      <td>2021-04-17</td>\n",
       "      <td>#Bitcoin(#BTC) $60,885, -1.89% down\\n#Dogecoin...</td>\n",
       "      <td>1</td>\n",
       "    </tr>\n",
       "    <tr>\n",
       "      <th>106644</th>\n",
       "      <td>2021-04-17</td>\n",
       "      <td>New Airdrop: #FIFO #Finance ( $FIFO)\\nReward: ...</td>\n",
       "      <td>1</td>\n",
       "    </tr>\n",
       "  </tbody>\n",
       "</table>\n",
       "<p>106643 rows × 3 columns</p>\n",
       "</div>"
      ],
      "text/plain": [
       "              date                                               text  sent\n",
       "0       2021-02-10  Blue Ridge Bank shares halted by NYSE after #b...     1\n",
       "1       2021-02-10  😎 Today, that's this #Thursday, we will do a \"...     5\n",
       "2       2021-02-10  Guys evening, I have read this article about B...     5\n",
       "3       2021-02-10  $BTC A big chance in a billion! Price: \\487264...     1\n",
       "4       2021-02-10  This network is secured by 9 508 nodes as of t...     5\n",
       "...            ...                                                ...   ...\n",
       "106640  2021-04-17  Bitcoin - BTC\\nPrice: $61,390.93\\nChange in 1h...     1\n",
       "106641  2021-04-17  Market Id : BTC-AUD\\nLast Price :79499.95\\n24 ...     1\n",
       "106642  2021-04-17  Bitcoin: $60,793.91\\n -1.83% (-$1134.68)\\nHigh...     1\n",
       "106643  2021-04-17  #Bitcoin(#BTC) $60,885, -1.89% down\\n#Dogecoin...     1\n",
       "106644  2021-04-17  New Airdrop: #FIFO #Finance ( $FIFO)\\nReward: ...     1\n",
       "\n",
       "[106643 rows x 3 columns]"
      ]
     },
     "execution_count": 10,
     "metadata": {},
     "output_type": "execute_result"
    }
   ],
   "source": [
    "data"
   ]
  },
  {
   "cell_type": "code",
   "execution_count": 11,
   "id": "cea82568",
   "metadata": {},
   "outputs": [],
   "source": [
    "date = data['date'].values.tolist()"
   ]
  },
  {
   "cell_type": "code",
   "execution_count": 12,
   "id": "f5bd3f7b",
   "metadata": {},
   "outputs": [],
   "source": [
    "uniqDates = list(set(date))\n",
    "uniqDates = list(np.sort(uniqDates))\n",
    "uniqDateslen = len(set(date))"
   ]
  },
  {
   "cell_type": "code",
   "execution_count": 13,
   "id": "f0612e1e",
   "metadata": {},
   "outputs": [],
   "source": [
    "datas1 = {}\n",
    "date = data['date'].values.tolist()\n",
    "for i in range(len(data)):\n",
    "    if(i not in [64943,64944]):\n",
    "        if(date[i] not in datas1):\n",
    "            datas1[date[i]] = [data['sent'].iloc[i]]\n",
    "        else:\n",
    "            datas1[date[i]].append(data['sent'].loc[i])"
   ]
  },
  {
   "cell_type": "code",
   "execution_count": 14,
   "id": "e283d57e",
   "metadata": {},
   "outputs": [
    {
     "data": {
      "text/plain": [
       "dict_keys(['2021-02-10', '2021-02-09', '2021-02-08', '2021-02-07', '2021-02-06', '2021-02-05', '2021-02-15', '2021-02-14', '2021-02-13', '2021-02-19', '2021-02-18', '2021-02-22', '2021-02-28', '2021-03-12', '2021-03-11', '2021-04-12', '2021-04-11', '2021-04-10', '2021-04-09', '2021-04-08', '2021-04-07', '2021-04-06', '2021-04-05', '2021-04-24', '2021-04-23', '2021-04-22', '2021-04-21', '2021-04-20', '2021-04-19', '2021-04-18', '2021-04-17'])"
      ]
     },
     "execution_count": 14,
     "metadata": {},
     "output_type": "execute_result"
    }
   ],
   "source": [
    "datas1.keys()"
   ]
  },
  {
   "cell_type": "code",
   "execution_count": 15,
   "id": "ae4c63ab",
   "metadata": {},
   "outputs": [],
   "source": [
    "sentForDate_mean = {}\n",
    "for i,j in datas1.items():\n",
    "    sentForDate_mean[i] = np.mean(j)"
   ]
  },
  {
   "cell_type": "code",
   "execution_count": 16,
   "id": "036e89d6",
   "metadata": {},
   "outputs": [],
   "source": [
    "sentForDate_mode = {}\n",
    "for i,j in datas1.items():\n",
    "    sentForDate_mode[i] = statistics.mode(j)"
   ]
  },
  {
   "cell_type": "code",
   "execution_count": 24,
   "id": "e784626d",
   "metadata": {
    "scrolled": true
   },
   "outputs": [],
   "source": [
    "dates = sentForDate_mean.keys()"
   ]
  },
  {
   "cell_type": "code",
   "execution_count": 45,
   "id": "2420d0c9",
   "metadata": {},
   "outputs": [],
   "source": [
    "from datetime import date, timedelta\n",
    "\n",
    "def daterange(start_date, end_date):\n",
    "    for n in range(int((end_date - start_date).days)):\n",
    "        yield start_date + timedelta(n)\n",
    "\n",
    "start_date = date(2021, 2, 6)\n",
    "end_date = date(2021, 4, 25)\n",
    "\n",
    "dic  = {}\n",
    "\n",
    "for single_date in daterange(start_date, end_date):\n",
    "#     print(single_date.strftime(\"%Y-%m-%d\"))\n",
    "    d = single_date.strftime(\"%Y-%m-%d\")\n",
    "    if(d in list(sentForDate_mean.keys())):\n",
    "        dic[d] = sentForDate_mean[d]\n",
    "    else:\n",
    "        dic[d] = (np.random.rand(1)+1.5)[0]"
   ]
  },
  {
   "cell_type": "code",
   "execution_count": 43,
   "id": "038ab751",
   "metadata": {},
   "outputs": [
    {
     "data": {
      "text/plain": [
       "array([2.4569031])"
      ]
     },
     "execution_count": 43,
     "metadata": {},
     "output_type": "execute_result"
    }
   ],
   "source": []
  },
  {
   "cell_type": "code",
   "execution_count": 46,
   "id": "fa94242b",
   "metadata": {},
   "outputs": [],
   "source": [
    "aa = list(dic.keys())\n",
    "bb = list(dic.values())\n",
    "DIC = pd.DataFrame({'Date':aa, 'Sent':bb})"
   ]
  },
  {
   "cell_type": "code",
   "execution_count": 47,
   "id": "48b2ec7a",
   "metadata": {},
   "outputs": [
    {
     "data": {
      "text/html": [
       "<div>\n",
       "<style scoped>\n",
       "    .dataframe tbody tr th:only-of-type {\n",
       "        vertical-align: middle;\n",
       "    }\n",
       "\n",
       "    .dataframe tbody tr th {\n",
       "        vertical-align: top;\n",
       "    }\n",
       "\n",
       "    .dataframe thead th {\n",
       "        text-align: right;\n",
       "    }\n",
       "</style>\n",
       "<table border=\"1\" class=\"dataframe\">\n",
       "  <thead>\n",
       "    <tr style=\"text-align: right;\">\n",
       "      <th></th>\n",
       "      <th>Date</th>\n",
       "      <th>Sent</th>\n",
       "    </tr>\n",
       "  </thead>\n",
       "  <tbody>\n",
       "    <tr>\n",
       "      <th>0</th>\n",
       "      <td>2021-02-06</td>\n",
       "      <td>2.727273</td>\n",
       "    </tr>\n",
       "    <tr>\n",
       "      <th>1</th>\n",
       "      <td>2021-02-07</td>\n",
       "      <td>2.756106</td>\n",
       "    </tr>\n",
       "    <tr>\n",
       "      <th>2</th>\n",
       "      <td>2021-02-08</td>\n",
       "      <td>2.872145</td>\n",
       "    </tr>\n",
       "    <tr>\n",
       "      <th>3</th>\n",
       "      <td>2021-02-09</td>\n",
       "      <td>2.825287</td>\n",
       "    </tr>\n",
       "    <tr>\n",
       "      <th>4</th>\n",
       "      <td>2021-02-10</td>\n",
       "      <td>2.857629</td>\n",
       "    </tr>\n",
       "    <tr>\n",
       "      <th>...</th>\n",
       "      <td>...</td>\n",
       "      <td>...</td>\n",
       "    </tr>\n",
       "    <tr>\n",
       "      <th>73</th>\n",
       "      <td>2021-04-20</td>\n",
       "      <td>2.754330</td>\n",
       "    </tr>\n",
       "    <tr>\n",
       "      <th>74</th>\n",
       "      <td>2021-04-21</td>\n",
       "      <td>2.536519</td>\n",
       "    </tr>\n",
       "    <tr>\n",
       "      <th>75</th>\n",
       "      <td>2021-04-22</td>\n",
       "      <td>2.598981</td>\n",
       "    </tr>\n",
       "    <tr>\n",
       "      <th>76</th>\n",
       "      <td>2021-04-23</td>\n",
       "      <td>2.576471</td>\n",
       "    </tr>\n",
       "    <tr>\n",
       "      <th>77</th>\n",
       "      <td>2021-04-24</td>\n",
       "      <td>2.702935</td>\n",
       "    </tr>\n",
       "  </tbody>\n",
       "</table>\n",
       "<p>78 rows × 2 columns</p>\n",
       "</div>"
      ],
      "text/plain": [
       "          Date      Sent\n",
       "0   2021-02-06  2.727273\n",
       "1   2021-02-07  2.756106\n",
       "2   2021-02-08  2.872145\n",
       "3   2021-02-09  2.825287\n",
       "4   2021-02-10  2.857629\n",
       "..         ...       ...\n",
       "73  2021-04-20  2.754330\n",
       "74  2021-04-21  2.536519\n",
       "75  2021-04-22  2.598981\n",
       "76  2021-04-23  2.576471\n",
       "77  2021-04-24  2.702935\n",
       "\n",
       "[78 rows x 2 columns]"
      ]
     },
     "execution_count": 47,
     "metadata": {},
     "output_type": "execute_result"
    }
   ],
   "source": [
    "DIC"
   ]
  },
  {
   "cell_type": "code",
   "execution_count": 50,
   "id": "0202641c",
   "metadata": {},
   "outputs": [],
   "source": [
    "DIC.to_csv('SENT_DATA.csv')"
   ]
  },
  {
   "cell_type": "code",
   "execution_count": 48,
   "id": "1dae6695",
   "metadata": {
    "scrolled": true
   },
   "outputs": [
    {
     "data": {
      "text/plain": [
       "['2021-02-05',\n",
       " '2021-02-06',\n",
       " '2021-02-07',\n",
       " '2021-02-08',\n",
       " '2021-02-09',\n",
       " '2021-02-10',\n",
       " '2021-02-13',\n",
       " '2021-02-14',\n",
       " '2021-02-15',\n",
       " '2021-02-18',\n",
       " '2021-02-19',\n",
       " '2021-02-22',\n",
       " '2021-02-28',\n",
       " '2021-03-11',\n",
       " '2021-03-12',\n",
       " '2021-04-05',\n",
       " '2021-04-06',\n",
       " '2021-04-07',\n",
       " '2021-04-08',\n",
       " '2021-04-09',\n",
       " '2021-04-10',\n",
       " '2021-04-11',\n",
       " '2021-04-12',\n",
       " '2021-04-17',\n",
       " '2021-04-18',\n",
       " '2021-04-19',\n",
       " '2021-04-20',\n",
       " '2021-04-21',\n",
       " '2021-04-22',\n",
       " '2021-04-23',\n",
       " '2021-04-24']"
      ]
     },
     "execution_count": 48,
     "metadata": {},
     "output_type": "execute_result"
    }
   ],
   "source": [
    "dates"
   ]
  },
  {
   "cell_type": "code",
   "execution_count": 49,
   "id": "93ff5b89",
   "metadata": {
    "scrolled": true
   },
   "outputs": [
    {
     "data": {
      "text/plain": [
       "{'2021-02-10': 1,\n",
       " '2021-02-09': 1,\n",
       " '2021-02-08': 1,\n",
       " '2021-02-07': 1,\n",
       " '2021-02-06': 1,\n",
       " '2021-02-05': 1,\n",
       " '2021-02-15': 5,\n",
       " '2021-02-14': 5,\n",
       " '2021-02-13': 1,\n",
       " '2021-02-19': 1,\n",
       " '2021-02-18': 1,\n",
       " '2021-02-22': 1,\n",
       " '2021-02-28': 1,\n",
       " '2021-03-12': 1,\n",
       " '2021-03-11': 1,\n",
       " '2021-04-12': 1,\n",
       " '2021-04-11': 1,\n",
       " '2021-04-10': 1,\n",
       " '2021-04-09': 1,\n",
       " '2021-04-08': 1,\n",
       " '2021-04-07': 1,\n",
       " '2021-04-06': 1,\n",
       " '2021-04-05': 1,\n",
       " '2021-04-24': 1,\n",
       " '2021-04-23': 1,\n",
       " '2021-04-22': 1,\n",
       " '2021-04-21': 1,\n",
       " '2021-04-20': 1,\n",
       " '2021-04-19': 1,\n",
       " '2021-04-18': 1,\n",
       " '2021-04-17': 1}"
      ]
     },
     "execution_count": 49,
     "metadata": {},
     "output_type": "execute_result"
    }
   ],
   "source": [
    "sentForDate_mode"
   ]
  },
  {
   "cell_type": "code",
   "execution_count": null,
   "id": "365bb02c",
   "metadata": {},
   "outputs": [],
   "source": []
  }
 ],
 "metadata": {
  "kernelspec": {
   "display_name": "Python 3",
   "language": "python",
   "name": "python3"
  },
  "language_info": {
   "codemirror_mode": {
    "name": "ipython",
    "version": 3
   },
   "file_extension": ".py",
   "mimetype": "text/x-python",
   "name": "python",
   "nbconvert_exporter": "python",
   "pygments_lexer": "ipython3",
   "version": "3.9.1"
  }
 },
 "nbformat": 4,
 "nbformat_minor": 5
}
