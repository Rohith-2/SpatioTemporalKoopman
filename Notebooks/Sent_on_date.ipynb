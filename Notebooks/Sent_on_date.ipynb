{
 "cells": [
  {
   "cell_type": "code",
   "execution_count": 148,
   "id": "78eb9979",
   "metadata": {},
   "outputs": [],
   "source": [
    "import os\n",
    "import pandas as pd\n",
    "import numpy as np\n",
    "import statistics"
   ]
  },
  {
   "cell_type": "code",
   "execution_count": 2,
   "id": "d2a036d4",
   "metadata": {},
   "outputs": [],
   "source": [
    "os.chdir('..')"
   ]
  },
  {
   "cell_type": "code",
   "execution_count": 70,
   "id": "e11db9b4",
   "metadata": {},
   "outputs": [],
   "source": [
    "path = os.path.join(os.getcwd(), 'data', 'sent.csv')\n",
    "data = pd.read_csv(path)"
   ]
  },
  {
   "cell_type": "code",
   "execution_count": 71,
   "id": "35e56b43",
   "metadata": {},
   "outputs": [],
   "source": [
    "data.drop(columns = ['Unnamed: 0'], inplace=True)"
   ]
  },
  {
   "cell_type": "code",
   "execution_count": 72,
   "id": "5f8a4562",
   "metadata": {},
   "outputs": [
    {
     "data": {
      "text/html": [
       "<div>\n",
       "<style scoped>\n",
       "    .dataframe tbody tr th:only-of-type {\n",
       "        vertical-align: middle;\n",
       "    }\n",
       "\n",
       "    .dataframe tbody tr th {\n",
       "        vertical-align: top;\n",
       "    }\n",
       "\n",
       "    .dataframe thead th {\n",
       "        text-align: right;\n",
       "    }\n",
       "</style>\n",
       "<table border=\"1\" class=\"dataframe\">\n",
       "  <thead>\n",
       "    <tr style=\"text-align: right;\">\n",
       "      <th></th>\n",
       "      <th>date</th>\n",
       "      <th>text</th>\n",
       "      <th>sent</th>\n",
       "    </tr>\n",
       "  </thead>\n",
       "  <tbody>\n",
       "    <tr>\n",
       "      <th>0</th>\n",
       "      <td>2021-02-10 23:59:04</td>\n",
       "      <td>Blue Ridge Bank shares halted by NYSE after #b...</td>\n",
       "      <td>1</td>\n",
       "    </tr>\n",
       "    <tr>\n",
       "      <th>1</th>\n",
       "      <td>2021-02-10 23:58:48</td>\n",
       "      <td>😎 Today, that's this #Thursday, we will do a \"...</td>\n",
       "      <td>5</td>\n",
       "    </tr>\n",
       "    <tr>\n",
       "      <th>2</th>\n",
       "      <td>2021-02-10 23:54:48</td>\n",
       "      <td>Guys evening, I have read this article about B...</td>\n",
       "      <td>5</td>\n",
       "    </tr>\n",
       "    <tr>\n",
       "      <th>3</th>\n",
       "      <td>2021-02-10 23:54:33</td>\n",
       "      <td>$BTC A big chance in a billion! Price: \\487264...</td>\n",
       "      <td>1</td>\n",
       "    </tr>\n",
       "    <tr>\n",
       "      <th>4</th>\n",
       "      <td>2021-02-10 23:54:06</td>\n",
       "      <td>This network is secured by 9 508 nodes as of t...</td>\n",
       "      <td>5</td>\n",
       "    </tr>\n",
       "  </tbody>\n",
       "</table>\n",
       "</div>"
      ],
      "text/plain": [
       "                  date                                               text  \\\n",
       "0  2021-02-10 23:59:04  Blue Ridge Bank shares halted by NYSE after #b...   \n",
       "1  2021-02-10 23:58:48  😎 Today, that's this #Thursday, we will do a \"...   \n",
       "2  2021-02-10 23:54:48  Guys evening, I have read this article about B...   \n",
       "3  2021-02-10 23:54:33  $BTC A big chance in a billion! Price: \\487264...   \n",
       "4  2021-02-10 23:54:06  This network is secured by 9 508 nodes as of t...   \n",
       "\n",
       "   sent  \n",
       "0     1  \n",
       "1     5  \n",
       "2     5  \n",
       "3     1  \n",
       "4     5  "
      ]
     },
     "execution_count": 72,
     "metadata": {},
     "output_type": "execute_result"
    }
   ],
   "source": [
    "data.head()"
   ]
  },
  {
   "cell_type": "code",
   "execution_count": 73,
   "id": "dd4ea2ae",
   "metadata": {},
   "outputs": [],
   "source": [
    "date = data['date'].fillna(' ').values.tolist()"
   ]
  },
  {
   "cell_type": "code",
   "execution_count": 74,
   "id": "994dc834",
   "metadata": {},
   "outputs": [],
   "source": [
    "data.drop(index=[64943, 64944], axis=0, inplace=True)"
   ]
  },
  {
   "cell_type": "code",
   "execution_count": 75,
   "id": "63d2d92b",
   "metadata": {},
   "outputs": [],
   "source": [
    "aa = []\n",
    "for i in date:\n",
    "    aa.append(i[0:10])"
   ]
  },
  {
   "cell_type": "code",
   "execution_count": 77,
   "id": "20e5e6d8",
   "metadata": {},
   "outputs": [],
   "source": [
    "data['date'] = pd.DataFrame(aa)"
   ]
  },
  {
   "cell_type": "code",
   "execution_count": 78,
   "id": "40ce4bb2",
   "metadata": {},
   "outputs": [
    {
     "data": {
      "text/html": [
       "<div>\n",
       "<style scoped>\n",
       "    .dataframe tbody tr th:only-of-type {\n",
       "        vertical-align: middle;\n",
       "    }\n",
       "\n",
       "    .dataframe tbody tr th {\n",
       "        vertical-align: top;\n",
       "    }\n",
       "\n",
       "    .dataframe thead th {\n",
       "        text-align: right;\n",
       "    }\n",
       "</style>\n",
       "<table border=\"1\" class=\"dataframe\">\n",
       "  <thead>\n",
       "    <tr style=\"text-align: right;\">\n",
       "      <th></th>\n",
       "      <th>date</th>\n",
       "      <th>text</th>\n",
       "      <th>sent</th>\n",
       "    </tr>\n",
       "  </thead>\n",
       "  <tbody>\n",
       "    <tr>\n",
       "      <th>0</th>\n",
       "      <td>2021-02-10</td>\n",
       "      <td>Blue Ridge Bank shares halted by NYSE after #b...</td>\n",
       "      <td>1</td>\n",
       "    </tr>\n",
       "    <tr>\n",
       "      <th>1</th>\n",
       "      <td>2021-02-10</td>\n",
       "      <td>😎 Today, that's this #Thursday, we will do a \"...</td>\n",
       "      <td>5</td>\n",
       "    </tr>\n",
       "    <tr>\n",
       "      <th>2</th>\n",
       "      <td>2021-02-10</td>\n",
       "      <td>Guys evening, I have read this article about B...</td>\n",
       "      <td>5</td>\n",
       "    </tr>\n",
       "    <tr>\n",
       "      <th>3</th>\n",
       "      <td>2021-02-10</td>\n",
       "      <td>$BTC A big chance in a billion! Price: \\487264...</td>\n",
       "      <td>1</td>\n",
       "    </tr>\n",
       "    <tr>\n",
       "      <th>4</th>\n",
       "      <td>2021-02-10</td>\n",
       "      <td>This network is secured by 9 508 nodes as of t...</td>\n",
       "      <td>5</td>\n",
       "    </tr>\n",
       "    <tr>\n",
       "      <th>...</th>\n",
       "      <td>...</td>\n",
       "      <td>...</td>\n",
       "      <td>...</td>\n",
       "    </tr>\n",
       "    <tr>\n",
       "      <th>106640</th>\n",
       "      <td>2021-04-17</td>\n",
       "      <td>Bitcoin - BTC\\nPrice: $61,390.93\\nChange in 1h...</td>\n",
       "      <td>1</td>\n",
       "    </tr>\n",
       "    <tr>\n",
       "      <th>106641</th>\n",
       "      <td>2021-04-17</td>\n",
       "      <td>Market Id : BTC-AUD\\nLast Price :79499.95\\n24 ...</td>\n",
       "      <td>1</td>\n",
       "    </tr>\n",
       "    <tr>\n",
       "      <th>106642</th>\n",
       "      <td>2021-04-17</td>\n",
       "      <td>Bitcoin: $60,793.91\\n -1.83% (-$1134.68)\\nHigh...</td>\n",
       "      <td>1</td>\n",
       "    </tr>\n",
       "    <tr>\n",
       "      <th>106643</th>\n",
       "      <td>2021-04-17</td>\n",
       "      <td>#Bitcoin(#BTC) $60,885, -1.89% down\\n#Dogecoin...</td>\n",
       "      <td>1</td>\n",
       "    </tr>\n",
       "    <tr>\n",
       "      <th>106644</th>\n",
       "      <td>2021-04-17</td>\n",
       "      <td>New Airdrop: #FIFO #Finance ( $FIFO)\\nReward: ...</td>\n",
       "      <td>1</td>\n",
       "    </tr>\n",
       "  </tbody>\n",
       "</table>\n",
       "<p>106643 rows × 3 columns</p>\n",
       "</div>"
      ],
      "text/plain": [
       "              date                                               text  sent\n",
       "0       2021-02-10  Blue Ridge Bank shares halted by NYSE after #b...     1\n",
       "1       2021-02-10  😎 Today, that's this #Thursday, we will do a \"...     5\n",
       "2       2021-02-10  Guys evening, I have read this article about B...     5\n",
       "3       2021-02-10  $BTC A big chance in a billion! Price: \\487264...     1\n",
       "4       2021-02-10  This network is secured by 9 508 nodes as of t...     5\n",
       "...            ...                                                ...   ...\n",
       "106640  2021-04-17  Bitcoin - BTC\\nPrice: $61,390.93\\nChange in 1h...     1\n",
       "106641  2021-04-17  Market Id : BTC-AUD\\nLast Price :79499.95\\n24 ...     1\n",
       "106642  2021-04-17  Bitcoin: $60,793.91\\n -1.83% (-$1134.68)\\nHigh...     1\n",
       "106643  2021-04-17  #Bitcoin(#BTC) $60,885, -1.89% down\\n#Dogecoin...     1\n",
       "106644  2021-04-17  New Airdrop: #FIFO #Finance ( $FIFO)\\nReward: ...     1\n",
       "\n",
       "[106643 rows x 3 columns]"
      ]
     },
     "execution_count": 78,
     "metadata": {},
     "output_type": "execute_result"
    }
   ],
   "source": [
    "data"
   ]
  },
  {
   "cell_type": "code",
   "execution_count": 82,
   "id": "cea82568",
   "metadata": {},
   "outputs": [],
   "source": [
    "date = data['date'].values.tolist()"
   ]
  },
  {
   "cell_type": "code",
   "execution_count": 101,
   "id": "f5bd3f7b",
   "metadata": {},
   "outputs": [],
   "source": [
    "uniqDates = list(set(date))\n",
    "uniqDates = list(np.sort(uniqDates))\n",
    "uniqDateslen = len(set(date))"
   ]
  },
  {
   "cell_type": "code",
   "execution_count": 140,
   "id": "f0612e1e",
   "metadata": {},
   "outputs": [],
   "source": [
    "datas1 = {}\n",
    "date = data['date'].values.tolist()\n",
    "for i in range(len(data)):\n",
    "    if(i not in [64943,64944]):\n",
    "        if(date[i] not in datas1):\n",
    "            datas1[date[i]] = [data['sent'].iloc[i]]\n",
    "        else:\n",
    "            datas1[date[i]].append(data['sent'].loc[i])"
   ]
  },
  {
   "cell_type": "code",
   "execution_count": 128,
   "id": "e283d57e",
   "metadata": {},
   "outputs": [
    {
     "data": {
      "text/plain": [
       "dict_keys(['2021-02-10', '2021-02-09', '2021-02-08', '2021-02-07', '2021-02-06', '2021-02-05', '2021-02-15', '2021-02-14', '2021-02-13', '2021-02-19', '2021-02-18', '2021-02-22', '2021-02-28', '2021-03-12', '2021-03-11', '2021-04-12', '2021-04-11', '2021-04-10', '2021-04-09', '2021-04-08', '2021-04-07'])"
      ]
     },
     "execution_count": 128,
     "metadata": {},
     "output_type": "execute_result"
    }
   ],
   "source": [
    "datas1.keys()"
   ]
  },
  {
   "cell_type": "code",
   "execution_count": 136,
   "id": "e5bb6d3d",
   "metadata": {},
   "outputs": [
    {
     "data": {
      "text/plain": [
       "'Good info here.  Looks like a perfect storm brewing for new ATH.\\n\\n#bitcoin #btc\\n\\n5 key reasons why Bitcoin will lik… https://t.co/JyMXYigkaD'"
      ]
     },
     "execution_count": 136,
     "metadata": {},
     "output_type": "execute_result"
    }
   ],
   "source": [
    "data['text'].loc[64945]"
   ]
  },
  {
   "cell_type": "code",
   "execution_count": 146,
   "id": "ae4c63ab",
   "metadata": {},
   "outputs": [],
   "source": [
    "sentForDate_mean = {}\n",
    "for i,j in datas1.items():\n",
    "    sentForDate_mean[i] = np.mean(j)"
   ]
  },
  {
   "cell_type": "code",
   "execution_count": 149,
   "id": "036e89d6",
   "metadata": {},
   "outputs": [],
   "source": [
    "sentForDate_mode = {}\n",
    "for i,j in datas1.items():\n",
    "    sentForDate_mode[i] = statistics.mode(j)"
   ]
  },
  {
   "cell_type": "code",
   "execution_count": 150,
   "id": "e784626d",
   "metadata": {
    "scrolled": true
   },
   "outputs": [
    {
     "data": {
      "text/plain": [
       "{'2021-02-10': 2.857629041406693,\n",
       " '2021-02-09': 2.825287356321839,\n",
       " '2021-02-08': 2.872144501505224,\n",
       " '2021-02-07': 2.756105610561056,\n",
       " '2021-02-06': 2.727272727272727,\n",
       " '2021-02-05': 2.925619834710744,\n",
       " '2021-02-15': 3.4491507202752096,\n",
       " '2021-02-14': 3.2015465203292592,\n",
       " '2021-02-13': 2.988621444201313,\n",
       " '2021-02-19': 2.8066799380667993,\n",
       " '2021-02-18': 2.900621118012422,\n",
       " '2021-02-22': 2.73625140291807,\n",
       " '2021-02-28': 2.8525091799265607,\n",
       " '2021-03-12': 2.726994646953862,\n",
       " '2021-03-11': 2.5299539170506913,\n",
       " '2021-04-12': 2.8738317757009346,\n",
       " '2021-04-11': 2.871996076508092,\n",
       " '2021-04-10': 2.6768885564697085,\n",
       " '2021-04-09': 2.815539568345324,\n",
       " '2021-04-08': 2.9323529411764704,\n",
       " '2021-04-07': 2.856328957146396,\n",
       " '2021-04-06': 2.7648793565683647,\n",
       " '2021-04-05': 2.6886663632225765,\n",
       " '2021-04-24': 2.702935222672065,\n",
       " '2021-04-23': 2.5764705882352943,\n",
       " '2021-04-22': 2.598980791846335,\n",
       " '2021-04-21': 2.5365193868349865,\n",
       " '2021-04-20': 2.7543299908842296,\n",
       " '2021-04-19': 2.684389414906531,\n",
       " '2021-04-18': 2.548640611724724,\n",
       " '2021-04-17': 2.8168168168168166}"
      ]
     },
     "execution_count": 150,
     "metadata": {},
     "output_type": "execute_result"
    }
   ],
   "source": [
    "sentForDate_mean"
   ]
  },
  {
   "cell_type": "code",
   "execution_count": 151,
   "id": "93ff5b89",
   "metadata": {},
   "outputs": [
    {
     "data": {
      "text/plain": [
       "{'2021-02-10': 1,\n",
       " '2021-02-09': 1,\n",
       " '2021-02-08': 1,\n",
       " '2021-02-07': 1,\n",
       " '2021-02-06': 1,\n",
       " '2021-02-05': 1,\n",
       " '2021-02-15': 5,\n",
       " '2021-02-14': 5,\n",
       " '2021-02-13': 1,\n",
       " '2021-02-19': 1,\n",
       " '2021-02-18': 1,\n",
       " '2021-02-22': 1,\n",
       " '2021-02-28': 1,\n",
       " '2021-03-12': 1,\n",
       " '2021-03-11': 1,\n",
       " '2021-04-12': 1,\n",
       " '2021-04-11': 1,\n",
       " '2021-04-10': 1,\n",
       " '2021-04-09': 1,\n",
       " '2021-04-08': 1,\n",
       " '2021-04-07': 1,\n",
       " '2021-04-06': 1,\n",
       " '2021-04-05': 1,\n",
       " '2021-04-24': 1,\n",
       " '2021-04-23': 1,\n",
       " '2021-04-22': 1,\n",
       " '2021-04-21': 1,\n",
       " '2021-04-20': 1,\n",
       " '2021-04-19': 1,\n",
       " '2021-04-18': 1,\n",
       " '2021-04-17': 1}"
      ]
     },
     "execution_count": 151,
     "metadata": {},
     "output_type": "execute_result"
    }
   ],
   "source": [
    "sentForDate_mode"
   ]
  },
  {
   "cell_type": "code",
   "execution_count": null,
   "id": "365bb02c",
   "metadata": {},
   "outputs": [],
   "source": []
  }
 ],
 "metadata": {
  "kernelspec": {
   "display_name": "Python 3",
   "language": "python",
   "name": "python3"
  },
  "language_info": {
   "codemirror_mode": {
    "name": "ipython",
    "version": 3
   },
   "file_extension": ".py",
   "mimetype": "text/x-python",
   "name": "python",
   "nbconvert_exporter": "python",
   "pygments_lexer": "ipython3",
   "version": "3.9.1"
  }
 },
 "nbformat": 4,
 "nbformat_minor": 5
}
