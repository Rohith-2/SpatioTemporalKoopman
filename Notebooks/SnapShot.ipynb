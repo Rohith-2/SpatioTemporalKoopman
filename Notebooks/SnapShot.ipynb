{
 "cells": [
  {
   "cell_type": "code",
   "execution_count": 1,
   "id": "ab7817ee",
   "metadata": {},
   "outputs": [],
   "source": [
    "import pandas as pd\n",
    "import os\n",
    "from sklearn.preprocessing import MinMaxScaler\n",
    "import numpy as np"
   ]
  },
  {
   "cell_type": "code",
   "execution_count": 2,
   "id": "99697bcd",
   "metadata": {},
   "outputs": [
    {
     "data": {
      "text/plain": [
       "'/Volumes/Rohith/College/SpatioTemporalKoopman'"
      ]
     },
     "execution_count": 2,
     "metadata": {},
     "output_type": "execute_result"
    }
   ],
   "source": [
    "os.chdir('..')\n",
    "os.getcwd()"
   ]
  },
  {
   "cell_type": "markdown",
   "id": "8e535424",
   "metadata": {},
   "source": [
    "# Data Processing"
   ]
  },
  {
   "cell_type": "code",
   "execution_count": 3,
   "id": "73a0d206",
   "metadata": {},
   "outputs": [],
   "source": [
    "pathData = os.path.join(os.getcwd(), 'data', 'BTC-USD.csv')"
   ]
  },
  {
   "cell_type": "code",
   "execution_count": 4,
   "id": "b8a59ac8",
   "metadata": {},
   "outputs": [],
   "source": [
    "data = pd.read_csv(pathData)"
   ]
  },
  {
   "cell_type": "code",
   "execution_count": 5,
   "id": "46755a11",
   "metadata": {},
   "outputs": [],
   "source": [
    "data.drop(columns=['Adj Close', 'High', 'Low', 'Open'], inplace=True)"
   ]
  },
  {
   "cell_type": "code",
   "execution_count": 6,
   "id": "235d12fd",
   "metadata": {},
   "outputs": [],
   "source": [
    "scaler = MinMaxScaler()\n",
    "volD = data['Volume'].values.reshape(-1,1)\n",
    "aa = scaler.fit_transform(volD)\n",
    "data['Vol'] = pd.DataFrame(aa)"
   ]
  },
  {
   "cell_type": "code",
   "execution_count": 7,
   "id": "973592d5",
   "metadata": {},
   "outputs": [
    {
     "data": {
      "text/html": [
       "<div>\n",
       "<style scoped>\n",
       "    .dataframe tbody tr th:only-of-type {\n",
       "        vertical-align: middle;\n",
       "    }\n",
       "\n",
       "    .dataframe tbody tr th {\n",
       "        vertical-align: top;\n",
       "    }\n",
       "\n",
       "    .dataframe thead th {\n",
       "        text-align: right;\n",
       "    }\n",
       "</style>\n",
       "<table border=\"1\" class=\"dataframe\">\n",
       "  <thead>\n",
       "    <tr style=\"text-align: right;\">\n",
       "      <th></th>\n",
       "      <th>Date</th>\n",
       "      <th>Close</th>\n",
       "      <th>Volume</th>\n",
       "      <th>Vol</th>\n",
       "    </tr>\n",
       "  </thead>\n",
       "  <tbody>\n",
       "    <tr>\n",
       "      <th>2106</th>\n",
       "      <td>2021-05-13</td>\n",
       "      <td>49716.191406</td>\n",
       "      <td>9.672115e+10</td>\n",
       "      <td>0.275558</td>\n",
       "    </tr>\n",
       "    <tr>\n",
       "      <th>2107</th>\n",
       "      <td>2021-05-14</td>\n",
       "      <td>49880.535156</td>\n",
       "      <td>5.573750e+10</td>\n",
       "      <td>0.158780</td>\n",
       "    </tr>\n",
       "    <tr>\n",
       "      <th>2108</th>\n",
       "      <td>2021-05-15</td>\n",
       "      <td>46760.187500</td>\n",
       "      <td>5.916105e+10</td>\n",
       "      <td>0.168535</td>\n",
       "    </tr>\n",
       "    <tr>\n",
       "      <th>2109</th>\n",
       "      <td>2021-05-16</td>\n",
       "      <td>46456.058594</td>\n",
       "      <td>6.404787e+10</td>\n",
       "      <td>0.182460</td>\n",
       "    </tr>\n",
       "    <tr>\n",
       "      <th>2110</th>\n",
       "      <td>2021-05-17</td>\n",
       "      <td>45367.214844</td>\n",
       "      <td>8.320761e+10</td>\n",
       "      <td>0.237053</td>\n",
       "    </tr>\n",
       "  </tbody>\n",
       "</table>\n",
       "</div>"
      ],
      "text/plain": [
       "            Date         Close        Volume       Vol\n",
       "2106  2021-05-13  49716.191406  9.672115e+10  0.275558\n",
       "2107  2021-05-14  49880.535156  5.573750e+10  0.158780\n",
       "2108  2021-05-15  46760.187500  5.916105e+10  0.168535\n",
       "2109  2021-05-16  46456.058594  6.404787e+10  0.182460\n",
       "2110  2021-05-17  45367.214844  8.320761e+10  0.237053"
      ]
     },
     "execution_count": 7,
     "metadata": {},
     "output_type": "execute_result"
    }
   ],
   "source": [
    "data.tail()"
   ]
  },
  {
   "cell_type": "code",
   "execution_count": 8,
   "id": "8a47e181",
   "metadata": {},
   "outputs": [
    {
     "data": {
      "text/plain": [
       "'2015-08-07'"
      ]
     },
     "execution_count": 8,
     "metadata": {},
     "output_type": "execute_result"
    }
   ],
   "source": [
    "data['Date'][0]"
   ]
  },
  {
   "cell_type": "code",
   "execution_count": 9,
   "id": "297d9ee8",
   "metadata": {},
   "outputs": [],
   "source": [
    "daa = data['Date'].values\n",
    "mon = []\n",
    "dat = []\n",
    "for i in daa:\n",
    "    mon.append(i[5:7])\n",
    "    dat.append(i[8:])\n",
    "data['Month'] = pd.DataFrame(mon)\n",
    "data['Day'] = pd.DataFrame(dat)"
   ]
  },
  {
   "cell_type": "code",
   "execution_count": 10,
   "id": "424748f9",
   "metadata": {},
   "outputs": [],
   "source": [
    "D = data.head(100)"
   ]
  },
  {
   "cell_type": "code",
   "execution_count": 139,
   "id": "b4c5ddc0",
   "metadata": {},
   "outputs": [],
   "source": [
    "data.fillna(-1,inplace=True)"
   ]
  },
  {
   "cell_type": "code",
   "execution_count": 115,
   "id": "b23aed01",
   "metadata": {},
   "outputs": [],
   "source": [
    "vol = data['Vol'].values"
   ]
  },
  {
   "cell_type": "code",
   "execution_count": 116,
   "id": "9ecaf467",
   "metadata": {},
   "outputs": [
    {
     "data": {
      "text/plain": [
       "0.9999999999999999"
      ]
     },
     "execution_count": 116,
     "metadata": {},
     "output_type": "execute_result"
    }
   ],
   "source": [
    "max(vol)"
   ]
  },
  {
   "cell_type": "code",
   "execution_count": 146,
   "id": "87143ef0",
   "metadata": {},
   "outputs": [
    {
     "data": {
      "text/plain": [
       "63503.45703099999"
      ]
     },
     "execution_count": 146,
     "metadata": {},
     "output_type": "execute_result"
    }
   ],
   "source": [
    "max(data[\"Close\"].tolist())"
   ]
  },
  {
   "cell_type": "markdown",
   "id": "27819002",
   "metadata": {},
   "source": [
    "# Tensor Creation"
   ]
  },
  {
   "cell_type": "code",
   "execution_count": 140,
   "id": "a6096fba",
   "metadata": {},
   "outputs": [],
   "source": [
    "def sna(dat):\n",
    "    mon = dat['Month'].values\n",
    "    dayy = dat['Day'].values\n",
    "    vol = dat['Vol'].values\n",
    "    close = dat['Close'].values\n",
    "    snps = []\n",
    "    ctr = np.zeros(shape=(10**4,31))\n",
    "    for i in range(len(mon)-1):\n",
    "        if(i != len(mon)):\n",
    "            if(mon[i] != mon[i+1]):\n",
    "                snps.append(ctr)\n",
    "                ctr = np.zeros(shape=(10**4,31))\n",
    "            ctr[int(vol[i]*10**4)][int(dayy[i])-1] = close[i]\n",
    "    return snps"
   ]
  },
  {
   "cell_type": "code",
   "execution_count": 141,
   "id": "9570374f",
   "metadata": {},
   "outputs": [],
   "source": [
    "a = sna(data)"
   ]
  },
  {
   "cell_type": "code",
   "execution_count": 153,
   "id": "fe1b7f75",
   "metadata": {},
   "outputs": [
    {
     "data": {
      "text/plain": [
       "<matplotlib.collections.PolyCollection at 0x7fb33a8e3730>"
      ]
     },
     "execution_count": 153,
     "metadata": {},
     "output_type": "execute_result"
    },
    {
     "data": {
      "image/png": "[encoded data removed]",
      "text/plain": [
       "<Figure size 432x288 with 1 Axes>"
      ]
     },
     "metadata": {
      "needs_background": "light"
     },
     "output_type": "display_data"
    }
   ],
   "source": [
    "plt.pcolor(a[22],cmap=cm.Blues_r)"
   ]
  }
 ],
 "metadata": {
  "kernelspec": {
   "display_name": "Python 3",
   "language": "python",
   "name": "python3"
  },
  "language_info": {
   "codemirror_mode": {
    "name": "ipython",
    "version": 3
   },
   "file_extension": ".py",
   "mimetype": "text/x-python",
   "name": "python",
   "nbconvert_exporter": "python",
   "pygments_lexer": "ipython3",
   "version": "3.8.5"
  },
  "toc": {
   "base_numbering": 1,
   "nav_menu": {},
   "number_sections": false,
   "sideBar": false,
   "skip_h1_title": false,
   "title_cell": "Table of Contents",
   "title_sidebar": "Contents",
   "toc_cell": false,
   "toc_position": {},
   "toc_section_display": false,
   "toc_window_display": false
  }
 },
 "nbformat": 4,
 "nbformat_minor": 5
}
